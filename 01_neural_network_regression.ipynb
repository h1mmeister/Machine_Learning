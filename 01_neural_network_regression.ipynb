{
  "nbformat": 4,
  "nbformat_minor": 0,
  "metadata": {
    "colab": {
      "name": "01_neural_network_regression.ipynb",
      "provenance": [],
      "collapsed_sections": [],
      "authorship_tag": "ABX9TyMdOSt4EFq+niqpZh6yZVzK",
      "include_colab_link": true
    },
    "kernelspec": {
      "name": "python3",
      "display_name": "Python 3"
    },
    "language_info": {
      "name": "python"
    }
  },
  "cells": [
    {
      "cell_type": "markdown",
      "metadata": {
        "id": "view-in-github",
        "colab_type": "text"
      },
      "source": [
        "<a href=\"https://colab.research.google.com/github/h1mmeister/Machine_Learning/blob/main/01_neural_network_regression.ipynb\" target=\"_parent\"><img src=\"https://colab.research.google.com/assets/colab-badge.svg\" alt=\"Open In Colab\"/></a>"
      ]
    },
    {
      "cell_type": "markdown",
      "metadata": {
        "id": "yqCJeVjizwW0"
      },
      "source": [
        "### Introduction to Regression with Neural Networks with TensorFlow"
      ]
    },
    {
      "cell_type": "code",
      "metadata": {
        "colab": {
          "base_uri": "https://localhost:8080/"
        },
        "id": "OjwWrFj_yKhU",
        "outputId": "d66cd943-8187-44db-b3b0-3ba3ef26e5f9"
      },
      "source": [
        "# import TensorFlow\n",
        "import tensorflow as tf\n",
        "print(tf.__version__)"
      ],
      "execution_count": 1,
      "outputs": [
        {
          "output_type": "stream",
          "text": [
            "2.6.0\n"
          ],
          "name": "stdout"
        }
      ]
    },
    {
      "cell_type": "markdown",
      "metadata": {
        "id": "UeUiM3DH06--"
      },
      "source": [
        "### Creating data to view and fit"
      ]
    },
    {
      "cell_type": "code",
      "metadata": {
        "colab": {
          "base_uri": "https://localhost:8080/",
          "height": 265
        },
        "id": "MXenHg-H0bb0",
        "outputId": "9b9f8348-b8d7-444e-82a1-c4b0e9b813d5"
      },
      "source": [
        "import numpy as np\n",
        "import matplotlib.pyplot as plt\n",
        "\n",
        "# create features\n",
        "X = np.array([-7.0, -4.0, -1.0, 2.0, 5.0, 8.0, 11.0, 14.0])\n",
        "\n",
        "# create labels\n",
        "y = np.array([3.0, 6.0, 9.0, 12.0, 15.0, 18.0, 21.0, 25.0])\n",
        "\n",
        "plt.scatter(X, y)\n",
        "plt.show()"
      ],
      "execution_count": 2,
      "outputs": [
        {
          "output_type": "display_data",
          "data": {
            "image/png": "[encoded data removed]",
            "text/plain": [
              "<Figure size 432x288 with 1 Axes>"
            ]
          },
          "metadata": {
            "needs_background": "light"
          }
        }
      ]
    },
    {
      "cell_type": "markdown",
      "metadata": {
        "id": "2OFlrvc4NNNM"
      },
      "source": [
        "\n",
        "\n",
        "```\n",
        "# This is formatted as code\n",
        "```\n",
        "\n",
        "### Input and Output Shapes"
      ]
    },
    {
      "cell_type": "code",
      "metadata": {
        "id": "XrDR4alQ1-YL",
        "colab": {
          "base_uri": "https://localhost:8080/"
        },
        "outputId": "bd5aaf40-2227-48af-9129-feb4c245ffdf"
      },
      "source": [
        "# create demo tensor for housing price prediction problem\n",
        "housing_info = tf.constant([\"bedroom\", \"bathroom\", \"garage\"])\n",
        "housing_price = tf.constant([939700])\n",
        "housing_info, housing_price"
      ],
      "execution_count": 3,
      "outputs": [
        {
          "output_type": "execute_result",
          "data": {
            "text/plain": [
              "(<tf.Tensor: shape=(3,), dtype=string, numpy=array([b'bedroom', b'bathroom', b'garage'], dtype=object)>,\n",
              " <tf.Tensor: shape=(1,), dtype=int32, numpy=array([939700], dtype=int32)>)"
            ]
          },
          "metadata": {},
          "execution_count": 3
        }
      ]
    },
    {
      "cell_type": "code",
      "metadata": {
        "colab": {
          "base_uri": "https://localhost:8080/"
        },
        "id": "C9Mvsw8vOMc2",
        "outputId": "1f793f7b-92b1-4ebb-8e7d-73d68d97ec93"
      },
      "source": [
        "input_shape = X.shape\n",
        "output_shape = y.shape\n",
        "input_shape, output_shape"
      ],
      "execution_count": 4,
      "outputs": [
        {
          "output_type": "execute_result",
          "data": {
            "text/plain": [
              "((8,), (8,))"
            ]
          },
          "metadata": {},
          "execution_count": 4
        }
      ]
    },
    {
      "cell_type": "code",
      "metadata": {
        "id": "lE3d0i-BPfor",
        "colab": {
          "base_uri": "https://localhost:8080/"
        },
        "outputId": "a8a2fc5d-1057-4a3f-f24b-35f77a3e71bb"
      },
      "source": [
        "X = tf.cast(tf.constant(X), dtype = tf.float32)\n",
        "y = tf.cast(tf.constant(y), dtype = tf.float32)\n",
        "X, y"
      ],
      "execution_count": 5,
      "outputs": [
        {
          "output_type": "execute_result",
          "data": {
            "text/plain": [
              "(<tf.Tensor: shape=(8,), dtype=float32, numpy=array([-7., -4., -1.,  2.,  5.,  8., 11., 14.], dtype=float32)>,\n",
              " <tf.Tensor: shape=(8,), dtype=float32, numpy=array([ 3.,  6.,  9., 12., 15., 18., 21., 25.], dtype=float32)>)"
            ]
          },
          "metadata": {},
          "execution_count": 5
        }
      ]
    },
    {
      "cell_type": "markdown",
      "metadata": {
        "id": "jRH4C8qe_492"
      },
      "source": [
        "### Steps in modelling with Tensorflow"
      ]
    },
    {
      "cell_type": "code",
      "metadata": {
        "colab": {
          "base_uri": "https://localhost:8080/"
        },
        "id": "kB0UIHeN_2RJ",
        "outputId": "8df4f050-53e3-4c60-f68e-4d33b410a9f3"
      },
      "source": [
        "# set the random seed\n",
        "tf.random.set_seed(42)\n",
        "\n",
        "# creating the model using the sequential api\n",
        "model = tf.keras.Sequential([\n",
        "        tf.keras.layers.Dense(1)                            \n",
        "])\n",
        "\n",
        "# compling the model\n",
        "model.compile(loss = tf.keras.losses.mae, \n",
        "              optimizer = tf.keras.optimizers.SGD(),\n",
        "              metrics = [\"mae\"]\n",
        "              )\n",
        "\n",
        "# fitting the model\n",
        "model.fit(X, y, epochs = 5)\n"
      ],
      "execution_count": 6,
      "outputs": [
        {
          "output_type": "stream",
          "text": [
            "Epoch 1/5\n",
            "1/1 [==============================] - 1s 635ms/step - loss: 11.6298 - mae: 11.6298\n",
            "Epoch 2/5\n",
            "1/1 [==============================] - 0s 5ms/step - loss: 11.4973 - mae: 11.4973\n",
            "Epoch 3/5\n",
            "1/1 [==============================] - 0s 5ms/step - loss: 11.3648 - mae: 11.3648\n",
            "Epoch 4/5\n",
            "1/1 [==============================] - 0s 9ms/step - loss: 11.2323 - mae: 11.2323\n",
            "Epoch 5/5\n",
            "1/1 [==============================] - 0s 5ms/step - loss: 11.0998 - mae: 11.0998\n"
          ],
          "name": "stdout"
        },
        {
          "output_type": "execute_result",
          "data": {
            "text/plain": [
              "<keras.callbacks.History at 0x7faa6c42ab10>"
            ]
          },
          "metadata": {},
          "execution_count": 6
        }
      ]
    },
    {
      "cell_type": "code",
      "metadata": {
        "colab": {
          "base_uri": "https://localhost:8080/"
        },
        "id": "riot7WXfMT5w",
        "outputId": "46c38086-a7a0-47a7-faa3-a0d4267abae4"
      },
      "source": [
        "# making a prediction with our model\n",
        "model.predict([17.0])\n"
      ],
      "execution_count": 7,
      "outputs": [
        {
          "output_type": "execute_result",
          "data": {
            "text/plain": [
              "array([[12.716021]], dtype=float32)"
            ]
          },
          "metadata": {},
          "execution_count": 7
        }
      ]
    },
    {
      "cell_type": "code",
      "metadata": {
        "colab": {
          "base_uri": "https://localhost:8080/"
        },
        "id": "yRQGar2dN8_k",
        "outputId": "9753596a-d9fc-4148-ae35-d5b49f9503fa"
      },
      "source": [
        "# recreating the model with more epochs\n",
        "model = tf.keras.Sequential([\n",
        "    tf.keras.layers.Dense(1)\n",
        "])\n",
        "\n",
        "model.compile(loss = tf.keras.losses.mae,\n",
        "              optimizer = tf.keras.optimizers.SGD(),\n",
        "              metrics = [\"mae\"]\n",
        "              )\n",
        "model.fit(X, y, epochs = 100)"
      ],
      "execution_count": 8,
      "outputs": [
        {
          "output_type": "stream",
          "text": [
            "Epoch 1/100\n",
            "1/1 [==============================] - 0s 285ms/step - loss: 11.3469 - mae: 11.3469\n",
            "Epoch 2/100\n",
            "1/1 [==============================] - 0s 5ms/step - loss: 11.2144 - mae: 11.2144\n",
            "Epoch 3/100\n",
            "1/1 [==============================] - 0s 5ms/step - loss: 11.0819 - mae: 11.0819\n",
            "Epoch 4/100\n",
            "1/1 [==============================] - 0s 3ms/step - loss: 10.9494 - mae: 10.9494\n",
            "Epoch 5/100\n",
            "1/1 [==============================] - 0s 5ms/step - loss: 10.8169 - mae: 10.8169\n",
            "Epoch 6/100\n",
            "1/1 [==============================] - 0s 3ms/step - loss: 10.6844 - mae: 10.6844\n",
            "Epoch 7/100\n",
            "1/1 [==============================] - 0s 6ms/step - loss: 10.5519 - mae: 10.5519\n",
            "Epoch 8/100\n",
            "1/1 [==============================] - 0s 4ms/step - loss: 10.4194 - mae: 10.4194\n",
            "Epoch 9/100\n",
            "1/1 [==============================] - 0s 6ms/step - loss: 10.2869 - mae: 10.2869\n",
            "Epoch 10/100\n",
            "1/1 [==============================] - 0s 7ms/step - loss: 10.1544 - mae: 10.1544\n",
            "Epoch 11/100\n",
            "1/1 [==============================] - 0s 5ms/step - loss: 10.0219 - mae: 10.0219\n",
            "Epoch 12/100\n",
            "1/1 [==============================] - 0s 5ms/step - loss: 9.8894 - mae: 9.8894\n",
            "Epoch 13/100\n",
            "1/1 [==============================] - 0s 4ms/step - loss: 9.7569 - mae: 9.7569\n",
            "Epoch 14/100\n",
            "1/1 [==============================] - 0s 5ms/step - loss: 9.6244 - mae: 9.6244\n",
            "Epoch 15/100\n",
            "1/1 [==============================] - 0s 5ms/step - loss: 9.4919 - mae: 9.4919\n",
            "Epoch 16/100\n",
            "1/1 [==============================] - 0s 6ms/step - loss: 9.3594 - mae: 9.3594\n",
            "Epoch 17/100\n",
            "1/1 [==============================] - 0s 8ms/step - loss: 9.2269 - mae: 9.2269\n",
            "Epoch 18/100\n",
            "1/1 [==============================] - 0s 8ms/step - loss: 9.0944 - mae: 9.0944\n",
            "Epoch 19/100\n",
            "1/1 [==============================] - 0s 6ms/step - loss: 8.9619 - mae: 8.9619\n",
            "Epoch 20/100\n",
            "1/1 [==============================] - 0s 7ms/step - loss: 8.8294 - mae: 8.8294\n",
            "Epoch 21/100\n",
            "1/1 [==============================] - 0s 7ms/step - loss: 8.6969 - mae: 8.6969\n",
            "Epoch 22/100\n",
            "1/1 [==============================] - 0s 12ms/step - loss: 8.5644 - mae: 8.5644\n",
            "Epoch 23/100\n",
            "1/1 [==============================] - 0s 8ms/step - loss: 8.4319 - mae: 8.4319\n",
            "Epoch 24/100\n",
            "1/1 [==============================] - 0s 6ms/step - loss: 8.2994 - mae: 8.2994\n",
            "Epoch 25/100\n",
            "1/1 [==============================] - 0s 19ms/step - loss: 8.1669 - mae: 8.1669\n",
            "Epoch 26/100\n",
            "1/1 [==============================] - 0s 4ms/step - loss: 8.0344 - mae: 8.0344\n",
            "Epoch 27/100\n",
            "1/1 [==============================] - 0s 5ms/step - loss: 7.9019 - mae: 7.9019\n",
            "Epoch 28/100\n",
            "1/1 [==============================] - 0s 6ms/step - loss: 7.7694 - mae: 7.7694\n",
            "Epoch 29/100\n",
            "1/1 [==============================] - 0s 7ms/step - loss: 7.6369 - mae: 7.6369\n",
            "Epoch 30/100\n",
            "1/1 [==============================] - 0s 8ms/step - loss: 7.5044 - mae: 7.5044\n",
            "Epoch 31/100\n",
            "1/1 [==============================] - 0s 11ms/step - loss: 7.3719 - mae: 7.3719\n",
            "Epoch 32/100\n",
            "1/1 [==============================] - 0s 14ms/step - loss: 7.2394 - mae: 7.2394\n",
            "Epoch 33/100\n",
            "1/1 [==============================] - 0s 5ms/step - loss: 7.1350 - mae: 7.1350\n",
            "Epoch 34/100\n",
            "1/1 [==============================] - 0s 4ms/step - loss: 7.1294 - mae: 7.1294\n",
            "Epoch 35/100\n",
            "1/1 [==============================] - 0s 4ms/step - loss: 7.1237 - mae: 7.1237\n",
            "Epoch 36/100\n",
            "1/1 [==============================] - 0s 4ms/step - loss: 7.1181 - mae: 7.1181\n",
            "Epoch 37/100\n",
            "1/1 [==============================] - 0s 8ms/step - loss: 7.1125 - mae: 7.1125\n",
            "Epoch 38/100\n",
            "1/1 [==============================] - 0s 12ms/step - loss: 7.1069 - mae: 7.1069\n",
            "Epoch 39/100\n",
            "1/1 [==============================] - 0s 4ms/step - loss: 7.1013 - mae: 7.1013\n",
            "Epoch 40/100\n",
            "1/1 [==============================] - 0s 5ms/step - loss: 7.0956 - mae: 7.0956\n",
            "Epoch 41/100\n",
            "1/1 [==============================] - 0s 3ms/step - loss: 7.0900 - mae: 7.0900\n",
            "Epoch 42/100\n",
            "1/1 [==============================] - 0s 6ms/step - loss: 7.0844 - mae: 7.0844\n",
            "Epoch 43/100\n",
            "1/1 [==============================] - 0s 4ms/step - loss: 7.0787 - mae: 7.0787\n",
            "Epoch 44/100\n",
            "1/1 [==============================] - 0s 5ms/step - loss: 7.0731 - mae: 7.0731\n",
            "Epoch 45/100\n",
            "1/1 [==============================] - 0s 12ms/step - loss: 7.0675 - mae: 7.0675\n",
            "Epoch 46/100\n",
            "1/1 [==============================] - 0s 8ms/step - loss: 7.0619 - mae: 7.0619\n",
            "Epoch 47/100\n",
            "1/1 [==============================] - 0s 4ms/step - loss: 7.0562 - mae: 7.0562\n",
            "Epoch 48/100\n",
            "1/1 [==============================] - 0s 13ms/step - loss: 7.0506 - mae: 7.0506\n",
            "Epoch 49/100\n",
            "1/1 [==============================] - 0s 4ms/step - loss: 7.0450 - mae: 7.0450\n",
            "Epoch 50/100\n",
            "1/1 [==============================] - 0s 4ms/step - loss: 7.0394 - mae: 7.0394\n",
            "Epoch 51/100\n",
            "1/1 [==============================] - 0s 4ms/step - loss: 7.0337 - mae: 7.0337\n",
            "Epoch 52/100\n",
            "1/1 [==============================] - 0s 5ms/step - loss: 7.0281 - mae: 7.0281\n",
            "Epoch 53/100\n",
            "1/1 [==============================] - 0s 6ms/step - loss: 7.0225 - mae: 7.0225\n",
            "Epoch 54/100\n",
            "1/1 [==============================] - 0s 6ms/step - loss: 7.0169 - mae: 7.0169\n",
            "Epoch 55/100\n",
            "1/1 [==============================] - 0s 7ms/step - loss: 7.0113 - mae: 7.0113\n",
            "Epoch 56/100\n",
            "1/1 [==============================] - 0s 8ms/step - loss: 7.0056 - mae: 7.0056\n",
            "Epoch 57/100\n",
            "1/1 [==============================] - 0s 6ms/step - loss: 7.0000 - mae: 7.0000\n",
            "Epoch 58/100\n",
            "1/1 [==============================] - 0s 23ms/step - loss: 6.9944 - mae: 6.9944\n",
            "Epoch 59/100\n",
            "1/1 [==============================] - 0s 10ms/step - loss: 6.9887 - mae: 6.9887\n",
            "Epoch 60/100\n",
            "1/1 [==============================] - 0s 6ms/step - loss: 6.9831 - mae: 6.9831\n",
            "Epoch 61/100\n",
            "1/1 [==============================] - 0s 6ms/step - loss: 6.9775 - mae: 6.9775\n",
            "Epoch 62/100\n",
            "1/1 [==============================] - 0s 11ms/step - loss: 6.9719 - mae: 6.9719\n",
            "Epoch 63/100\n",
            "1/1 [==============================] - 0s 15ms/step - loss: 6.9662 - mae: 6.9662\n",
            "Epoch 64/100\n",
            "1/1 [==============================] - 0s 5ms/step - loss: 6.9606 - mae: 6.9606\n",
            "Epoch 65/100\n",
            "1/1 [==============================] - 0s 4ms/step - loss: 6.9550 - mae: 6.9550\n",
            "Epoch 66/100\n",
            "1/1 [==============================] - 0s 6ms/step - loss: 6.9494 - mae: 6.9494\n",
            "Epoch 67/100\n",
            "1/1 [==============================] - 0s 4ms/step - loss: 6.9437 - mae: 6.9437\n",
            "Epoch 68/100\n",
            "1/1 [==============================] - 0s 6ms/step - loss: 6.9381 - mae: 6.9381\n",
            "Epoch 69/100\n",
            "1/1 [==============================] - 0s 8ms/step - loss: 6.9325 - mae: 6.9325\n",
            "Epoch 70/100\n",
            "1/1 [==============================] - 0s 3ms/step - loss: 6.9269 - mae: 6.9269\n",
            "Epoch 71/100\n",
            "1/1 [==============================] - 0s 3ms/step - loss: 6.9212 - mae: 6.9212\n",
            "Epoch 72/100\n",
            "1/1 [==============================] - 0s 5ms/step - loss: 6.9156 - mae: 6.9156\n",
            "Epoch 73/100\n",
            "1/1 [==============================] - 0s 4ms/step - loss: 6.9100 - mae: 6.9100\n",
            "Epoch 74/100\n",
            "1/1 [==============================] - 0s 7ms/step - loss: 6.9044 - mae: 6.9044\n",
            "Epoch 75/100\n",
            "1/1 [==============================] - 0s 5ms/step - loss: 6.8988 - mae: 6.8988\n",
            "Epoch 76/100\n",
            "1/1 [==============================] - 0s 6ms/step - loss: 6.8931 - mae: 6.8931\n",
            "Epoch 77/100\n",
            "1/1 [==============================] - 0s 5ms/step - loss: 6.8875 - mae: 6.8875\n",
            "Epoch 78/100\n",
            "1/1 [==============================] - 0s 6ms/step - loss: 6.8819 - mae: 6.8819\n",
            "Epoch 79/100\n",
            "1/1 [==============================] - 0s 5ms/step - loss: 6.8763 - mae: 6.8763\n",
            "Epoch 80/100\n",
            "1/1 [==============================] - 0s 5ms/step - loss: 6.8706 - mae: 6.8706\n",
            "Epoch 81/100\n",
            "1/1 [==============================] - 0s 6ms/step - loss: 6.8650 - mae: 6.8650\n",
            "Epoch 82/100\n",
            "1/1 [==============================] - 0s 5ms/step - loss: 6.8594 - mae: 6.8594\n",
            "Epoch 83/100\n",
            "1/1 [==============================] - 0s 5ms/step - loss: 6.8537 - mae: 6.8537\n",
            "Epoch 84/100\n",
            "1/1 [==============================] - 0s 5ms/step - loss: 6.8481 - mae: 6.8481\n",
            "Epoch 85/100\n",
            "1/1 [==============================] - 0s 6ms/step - loss: 6.8425 - mae: 6.8425\n",
            "Epoch 86/100\n",
            "1/1 [==============================] - 0s 8ms/step - loss: 6.8369 - mae: 6.8369\n",
            "Epoch 87/100\n",
            "1/1 [==============================] - 0s 9ms/step - loss: 6.8313 - mae: 6.8313\n",
            "Epoch 88/100\n",
            "1/1 [==============================] - 0s 7ms/step - loss: 6.8256 - mae: 6.8256\n",
            "Epoch 89/100\n",
            "1/1 [==============================] - 0s 4ms/step - loss: 6.8200 - mae: 6.8200\n",
            "Epoch 90/100\n",
            "1/1 [==============================] - 0s 7ms/step - loss: 6.8144 - mae: 6.8144\n",
            "Epoch 91/100\n",
            "1/1 [==============================] - 0s 4ms/step - loss: 6.8088 - mae: 6.8088\n",
            "Epoch 92/100\n",
            "1/1 [==============================] - 0s 5ms/step - loss: 6.8031 - mae: 6.8031\n",
            "Epoch 93/100\n",
            "1/1 [==============================] - 0s 6ms/step - loss: 6.7975 - mae: 6.7975\n",
            "Epoch 94/100\n",
            "1/1 [==============================] - 0s 6ms/step - loss: 6.7919 - mae: 6.7919\n",
            "Epoch 95/100\n",
            "1/1 [==============================] - 0s 8ms/step - loss: 6.7863 - mae: 6.7863\n",
            "Epoch 96/100\n",
            "1/1 [==============================] - 0s 5ms/step - loss: 6.7806 - mae: 6.7806\n",
            "Epoch 97/100\n",
            "1/1 [==============================] - 0s 5ms/step - loss: 6.7750 - mae: 6.7750\n",
            "Epoch 98/100\n",
            "1/1 [==============================] - 0s 15ms/step - loss: 6.7694 - mae: 6.7694\n",
            "Epoch 99/100\n",
            "1/1 [==============================] - 0s 6ms/step - loss: 6.7638 - mae: 6.7638\n",
            "Epoch 100/100\n",
            "1/1 [==============================] - 0s 11ms/step - loss: 6.7581 - mae: 6.7581\n"
          ],
          "name": "stdout"
        },
        {
          "output_type": "execute_result",
          "data": {
            "text/plain": [
              "<keras.callbacks.History at 0x7faa6c40ad10>"
            ]
          },
          "metadata": {},
          "execution_count": 8
        }
      ]
    },
    {
      "cell_type": "code",
      "metadata": {
        "colab": {
          "base_uri": "https://localhost:8080/"
        },
        "id": "WP7aLbu-Rsk6",
        "outputId": "ea2029b2-c23f-468c-deac-6a6883eb1a45"
      },
      "source": [
        "model.predict([17.0])"
      ],
      "execution_count": 9,
      "outputs": [
        {
          "output_type": "execute_result",
          "data": {
            "text/plain": [
              "array([[30.934855]], dtype=float32)"
            ]
          },
          "metadata": {},
          "execution_count": 9
        }
      ]
    },
    {
      "cell_type": "code",
      "metadata": {
        "colab": {
          "base_uri": "https://localhost:8080/"
        },
        "id": "emc4mQ2AR53l",
        "outputId": "dca8b155-6fc5-4826-e62b-7857dd8042bc"
      },
      "source": [
        "# recreating again with Adam optimizer\n",
        "model = tf.keras.Sequential([\n",
        "  tf.keras.layers.Dense(1)\n",
        "])\n",
        "\n",
        "model.compile(loss = tf.keras.losses.mae,\n",
        "              optimizer = tf.keras.optimizers.Adam(learning_rate = 0.001),\n",
        "              metrics = [\"mae\"]\n",
        "              )\n",
        "model.fit(X, y, epochs = 100)"
      ],
      "execution_count": 10,
      "outputs": [
        {
          "output_type": "stream",
          "text": [
            "Epoch 1/100\n",
            "1/1 [==============================] - 0s 297ms/step - loss: 10.6986 - mae: 10.6986\n",
            "Epoch 2/100\n",
            "1/1 [==============================] - 0s 4ms/step - loss: 10.6941 - mae: 10.6941\n",
            "Epoch 3/100\n",
            "1/1 [==============================] - 0s 4ms/step - loss: 10.6896 - mae: 10.6896\n",
            "Epoch 4/100\n",
            "1/1 [==============================] - 0s 8ms/step - loss: 10.6851 - mae: 10.6851\n",
            "Epoch 5/100\n",
            "1/1 [==============================] - 0s 4ms/step - loss: 10.6806 - mae: 10.6806\n",
            "Epoch 6/100\n",
            "1/1 [==============================] - 0s 7ms/step - loss: 10.6761 - mae: 10.6761\n",
            "Epoch 7/100\n",
            "1/1 [==============================] - 0s 5ms/step - loss: 10.6716 - mae: 10.6716\n",
            "Epoch 8/100\n",
            "1/1 [==============================] - 0s 4ms/step - loss: 10.6671 - mae: 10.6671\n",
            "Epoch 9/100\n",
            "1/1 [==============================] - 0s 8ms/step - loss: 10.6626 - mae: 10.6626\n",
            "Epoch 10/100\n",
            "1/1 [==============================] - 0s 7ms/step - loss: 10.6581 - mae: 10.6581\n",
            "Epoch 11/100\n",
            "1/1 [==============================] - 0s 5ms/step - loss: 10.6536 - mae: 10.6536\n",
            "Epoch 12/100\n",
            "1/1 [==============================] - 0s 12ms/step - loss: 10.6491 - mae: 10.6491\n",
            "Epoch 13/100\n",
            "1/1 [==============================] - 0s 4ms/step - loss: 10.6446 - mae: 10.6446\n",
            "Epoch 14/100\n",
            "1/1 [==============================] - 0s 7ms/step - loss: 10.6401 - mae: 10.6401\n",
            "Epoch 15/100\n",
            "1/1 [==============================] - 0s 8ms/step - loss: 10.6356 - mae: 10.6356\n",
            "Epoch 16/100\n",
            "1/1 [==============================] - 0s 6ms/step - loss: 10.6311 - mae: 10.6311\n",
            "Epoch 17/100\n",
            "1/1 [==============================] - 0s 5ms/step - loss: 10.6266 - mae: 10.6266\n",
            "Epoch 18/100\n",
            "1/1 [==============================] - 0s 6ms/step - loss: 10.6221 - mae: 10.6221\n",
            "Epoch 19/100\n",
            "1/1 [==============================] - 0s 8ms/step - loss: 10.6176 - mae: 10.6176\n",
            "Epoch 20/100\n",
            "1/1 [==============================] - 0s 6ms/step - loss: 10.6131 - mae: 10.6131\n",
            "Epoch 21/100\n",
            "1/1 [==============================] - 0s 6ms/step - loss: 10.6086 - mae: 10.6086\n",
            "Epoch 22/100\n",
            "1/1 [==============================] - 0s 5ms/step - loss: 10.6041 - mae: 10.6041\n",
            "Epoch 23/100\n",
            "1/1 [==============================] - 0s 8ms/step - loss: 10.5996 - mae: 10.5996\n",
            "Epoch 24/100\n",
            "1/1 [==============================] - 0s 9ms/step - loss: 10.5951 - mae: 10.5951\n",
            "Epoch 25/100\n",
            "1/1 [==============================] - 0s 5ms/step - loss: 10.5906 - mae: 10.5906\n",
            "Epoch 26/100\n",
            "1/1 [==============================] - 0s 6ms/step - loss: 10.5861 - mae: 10.5861\n",
            "Epoch 27/100\n",
            "1/1 [==============================] - 0s 6ms/step - loss: 10.5816 - mae: 10.5816\n",
            "Epoch 28/100\n",
            "1/1 [==============================] - 0s 7ms/step - loss: 10.5771 - mae: 10.5771\n",
            "Epoch 29/100\n",
            "1/1 [==============================] - 0s 4ms/step - loss: 10.5726 - mae: 10.5726\n",
            "Epoch 30/100\n",
            "1/1 [==============================] - 0s 6ms/step - loss: 10.5681 - mae: 10.5681\n",
            "Epoch 31/100\n",
            "1/1 [==============================] - 0s 4ms/step - loss: 10.5636 - mae: 10.5636\n",
            "Epoch 32/100\n",
            "1/1 [==============================] - 0s 4ms/step - loss: 10.5591 - mae: 10.5591\n",
            "Epoch 33/100\n",
            "1/1 [==============================] - 0s 4ms/step - loss: 10.5546 - mae: 10.5546\n",
            "Epoch 34/100\n",
            "1/1 [==============================] - 0s 4ms/step - loss: 10.5501 - mae: 10.5501\n",
            "Epoch 35/100\n",
            "1/1 [==============================] - 0s 4ms/step - loss: 10.5456 - mae: 10.5456\n",
            "Epoch 36/100\n",
            "1/1 [==============================] - 0s 4ms/step - loss: 10.5411 - mae: 10.5411\n",
            "Epoch 37/100\n",
            "1/1 [==============================] - 0s 4ms/step - loss: 10.5366 - mae: 10.5366\n",
            "Epoch 38/100\n",
            "1/1 [==============================] - 0s 5ms/step - loss: 10.5321 - mae: 10.5321\n",
            "Epoch 39/100\n",
            "1/1 [==============================] - 0s 6ms/step - loss: 10.5276 - mae: 10.5276\n",
            "Epoch 40/100\n",
            "1/1 [==============================] - 0s 4ms/step - loss: 10.5231 - mae: 10.5231\n",
            "Epoch 41/100\n",
            "1/1 [==============================] - 0s 4ms/step - loss: 10.5186 - mae: 10.5186\n",
            "Epoch 42/100\n",
            "1/1 [==============================] - 0s 4ms/step - loss: 10.5141 - mae: 10.5141\n",
            "Epoch 43/100\n",
            "1/1 [==============================] - 0s 4ms/step - loss: 10.5096 - mae: 10.5096\n",
            "Epoch 44/100\n",
            "1/1 [==============================] - 0s 6ms/step - loss: 10.5051 - mae: 10.5051\n",
            "Epoch 45/100\n",
            "1/1 [==============================] - 0s 5ms/step - loss: 10.5006 - mae: 10.5006\n",
            "Epoch 46/100\n",
            "1/1 [==============================] - 0s 3ms/step - loss: 10.4961 - mae: 10.4961\n",
            "Epoch 47/100\n",
            "1/1 [==============================] - 0s 12ms/step - loss: 10.4916 - mae: 10.4916\n",
            "Epoch 48/100\n",
            "1/1 [==============================] - 0s 8ms/step - loss: 10.4871 - mae: 10.4871\n",
            "Epoch 49/100\n",
            "1/1 [==============================] - 0s 6ms/step - loss: 10.4826 - mae: 10.4826\n",
            "Epoch 50/100\n",
            "1/1 [==============================] - 0s 4ms/step - loss: 10.4781 - mae: 10.4781\n",
            "Epoch 51/100\n",
            "1/1 [==============================] - 0s 11ms/step - loss: 10.4736 - mae: 10.4736\n",
            "Epoch 52/100\n",
            "1/1 [==============================] - 0s 4ms/step - loss: 10.4691 - mae: 10.4691\n",
            "Epoch 53/100\n",
            "1/1 [==============================] - 0s 4ms/step - loss: 10.4646 - mae: 10.4646\n",
            "Epoch 54/100\n",
            "1/1 [==============================] - 0s 4ms/step - loss: 10.4601 - mae: 10.4601\n",
            "Epoch 55/100\n",
            "1/1 [==============================] - 0s 4ms/step - loss: 10.4556 - mae: 10.4556\n",
            "Epoch 56/100\n",
            "1/1 [==============================] - 0s 4ms/step - loss: 10.4511 - mae: 10.4511\n",
            "Epoch 57/100\n",
            "1/1 [==============================] - 0s 4ms/step - loss: 10.4466 - mae: 10.4466\n",
            "Epoch 58/100\n",
            "1/1 [==============================] - 0s 4ms/step - loss: 10.4421 - mae: 10.4421\n",
            "Epoch 59/100\n",
            "1/1 [==============================] - 0s 4ms/step - loss: 10.4376 - mae: 10.4376\n",
            "Epoch 60/100\n",
            "1/1 [==============================] - 0s 4ms/step - loss: 10.4331 - mae: 10.4331\n",
            "Epoch 61/100\n",
            "1/1 [==============================] - 0s 4ms/step - loss: 10.4286 - mae: 10.4286\n",
            "Epoch 62/100\n",
            "1/1 [==============================] - 0s 3ms/step - loss: 10.4241 - mae: 10.4241\n",
            "Epoch 63/100\n",
            "1/1 [==============================] - 0s 4ms/step - loss: 10.4196 - mae: 10.4196\n",
            "Epoch 64/100\n",
            "1/1 [==============================] - 0s 4ms/step - loss: 10.4151 - mae: 10.4151\n",
            "Epoch 65/100\n",
            "1/1 [==============================] - 0s 3ms/step - loss: 10.4106 - mae: 10.4106\n",
            "Epoch 66/100\n",
            "1/1 [==============================] - 0s 9ms/step - loss: 10.4061 - mae: 10.4061\n",
            "Epoch 67/100\n",
            "1/1 [==============================] - 0s 8ms/step - loss: 10.4016 - mae: 10.4016\n",
            "Epoch 68/100\n",
            "1/1 [==============================] - 0s 31ms/step - loss: 10.3971 - mae: 10.3971\n",
            "Epoch 69/100\n",
            "1/1 [==============================] - 0s 21ms/step - loss: 10.3926 - mae: 10.3926\n",
            "Epoch 70/100\n",
            "1/1 [==============================] - 0s 14ms/step - loss: 10.3881 - mae: 10.3881\n",
            "Epoch 71/100\n",
            "1/1 [==============================] - 0s 7ms/step - loss: 10.3836 - mae: 10.3836\n",
            "Epoch 72/100\n",
            "1/1 [==============================] - 0s 11ms/step - loss: 10.3791 - mae: 10.3791\n",
            "Epoch 73/100\n",
            "1/1 [==============================] - 0s 5ms/step - loss: 10.3746 - mae: 10.3746\n",
            "Epoch 74/100\n",
            "1/1 [==============================] - 0s 5ms/step - loss: 10.3701 - mae: 10.3701\n",
            "Epoch 75/100\n",
            "1/1 [==============================] - 0s 5ms/step - loss: 10.3656 - mae: 10.3656\n",
            "Epoch 76/100\n",
            "1/1 [==============================] - 0s 5ms/step - loss: 10.3611 - mae: 10.3611\n",
            "Epoch 77/100\n",
            "1/1 [==============================] - 0s 6ms/step - loss: 10.3566 - mae: 10.3566\n",
            "Epoch 78/100\n",
            "1/1 [==============================] - 0s 5ms/step - loss: 10.3521 - mae: 10.3521\n",
            "Epoch 79/100\n",
            "1/1 [==============================] - 0s 6ms/step - loss: 10.3476 - mae: 10.3476\n",
            "Epoch 80/100\n",
            "1/1 [==============================] - 0s 11ms/step - loss: 10.3431 - mae: 10.3431\n",
            "Epoch 81/100\n",
            "1/1 [==============================] - 0s 8ms/step - loss: 10.3386 - mae: 10.3386\n",
            "Epoch 82/100\n",
            "1/1 [==============================] - 0s 7ms/step - loss: 10.3341 - mae: 10.3341\n",
            "Epoch 83/100\n",
            "1/1 [==============================] - 0s 6ms/step - loss: 10.3296 - mae: 10.3296\n",
            "Epoch 84/100\n",
            "1/1 [==============================] - 0s 8ms/step - loss: 10.3251 - mae: 10.3251\n",
            "Epoch 85/100\n",
            "1/1 [==============================] - 0s 7ms/step - loss: 10.3206 - mae: 10.3206\n",
            "Epoch 86/100\n",
            "1/1 [==============================] - 0s 3ms/step - loss: 10.3161 - mae: 10.3161\n",
            "Epoch 87/100\n",
            "1/1 [==============================] - 0s 5ms/step - loss: 10.3116 - mae: 10.3116\n",
            "Epoch 88/100\n",
            "1/1 [==============================] - 0s 5ms/step - loss: 10.3071 - mae: 10.3071\n",
            "Epoch 89/100\n",
            "1/1 [==============================] - 0s 9ms/step - loss: 10.3026 - mae: 10.3026\n",
            "Epoch 90/100\n",
            "1/1 [==============================] - 0s 5ms/step - loss: 10.2981 - mae: 10.2981\n",
            "Epoch 91/100\n",
            "1/1 [==============================] - 0s 6ms/step - loss: 10.2936 - mae: 10.2936\n",
            "Epoch 92/100\n",
            "1/1 [==============================] - 0s 9ms/step - loss: 10.2891 - mae: 10.2891\n",
            "Epoch 93/100\n",
            "1/1 [==============================] - 0s 7ms/step - loss: 10.2846 - mae: 10.2846\n",
            "Epoch 94/100\n",
            "1/1 [==============================] - 0s 5ms/step - loss: 10.2801 - mae: 10.2801\n",
            "Epoch 95/100\n",
            "1/1 [==============================] - 0s 5ms/step - loss: 10.2756 - mae: 10.2756\n",
            "Epoch 96/100\n",
            "1/1 [==============================] - 0s 5ms/step - loss: 10.2711 - mae: 10.2711\n",
            "Epoch 97/100\n",
            "1/1 [==============================] - 0s 4ms/step - loss: 10.2666 - mae: 10.2666\n",
            "Epoch 98/100\n",
            "1/1 [==============================] - 0s 4ms/step - loss: 10.2621 - mae: 10.2621\n",
            "Epoch 99/100\n",
            "1/1 [==============================] - 0s 4ms/step - loss: 10.2576 - mae: 10.2576\n",
            "Epoch 100/100\n",
            "1/1 [==============================] - 0s 3ms/step - loss: 10.2531 - mae: 10.2531\n"
          ],
          "name": "stdout"
        },
        {
          "output_type": "execute_result",
          "data": {
            "text/plain": [
              "<keras.callbacks.History at 0x7faa6c2bd290>"
            ]
          },
          "metadata": {},
          "execution_count": 10
        }
      ]
    },
    {
      "cell_type": "code",
      "metadata": {
        "colab": {
          "base_uri": "https://localhost:8080/"
        },
        "id": "2bb2c9T2SplM",
        "outputId": "98332e91-5d6d-4977-b13c-58f6244fb8da"
      },
      "source": [
        "model.predict([17.0])"
      ],
      "execution_count": 11,
      "outputs": [
        {
          "output_type": "execute_result",
          "data": {
            "text/plain": [
              "array([[16.014063]], dtype=float32)"
            ]
          },
          "metadata": {},
          "execution_count": 11
        }
      ]
    },
    {
      "cell_type": "code",
      "metadata": {
        "colab": {
          "base_uri": "https://localhost:8080/"
        },
        "id": "hbIV2qlfS1eD",
        "outputId": "c92faef9-f916-4ea0-c888-03000228ce96"
      },
      "source": [
        "# again with adding more neurons\n",
        "model = tf.keras.Sequential([\n",
        "    tf.keras.layers.Dense(100, activation = \"relu\"),\n",
        "    tf.keras.layers.Dense(1)\n",
        "])\n",
        "\n",
        "model.compile(loss = tf.keras.losses.mae,\n",
        "              optimizer = tf.keras.optimizers.SGD(),\n",
        "              metrics = [\"mae\"]\n",
        "              )\n",
        "model.fit(X, y, epochs = 100)"
      ],
      "execution_count": 12,
      "outputs": [
        {
          "output_type": "stream",
          "text": [
            "Epoch 1/100\n",
            "1/1 [==============================] - 0s 294ms/step - loss: 14.1657 - mae: 14.1657\n",
            "Epoch 2/100\n",
            "1/1 [==============================] - 0s 3ms/step - loss: 13.6050 - mae: 13.6050\n",
            "Epoch 3/100\n",
            "1/1 [==============================] - 0s 4ms/step - loss: 13.0467 - mae: 13.0467\n",
            "Epoch 4/100\n",
            "1/1 [==============================] - 0s 5ms/step - loss: 12.4862 - mae: 12.4862\n",
            "Epoch 5/100\n",
            "1/1 [==============================] - 0s 4ms/step - loss: 11.9187 - mae: 11.9187\n",
            "Epoch 6/100\n",
            "1/1 [==============================] - 0s 10ms/step - loss: 11.3356 - mae: 11.3356\n",
            "Epoch 7/100\n",
            "1/1 [==============================] - 0s 11ms/step - loss: 10.7459 - mae: 10.7459\n",
            "Epoch 8/100\n",
            "1/1 [==============================] - 0s 4ms/step - loss: 10.1308 - mae: 10.1308\n",
            "Epoch 9/100\n",
            "1/1 [==============================] - 0s 9ms/step - loss: 9.4875 - mae: 9.4875\n",
            "Epoch 10/100\n",
            "1/1 [==============================] - 0s 5ms/step - loss: 8.8137 - mae: 8.8137\n",
            "Epoch 11/100\n",
            "1/1 [==============================] - 0s 4ms/step - loss: 8.0980 - mae: 8.0980\n",
            "Epoch 12/100\n",
            "1/1 [==============================] - 0s 6ms/step - loss: 7.3380 - mae: 7.3380\n",
            "Epoch 13/100\n",
            "1/1 [==============================] - 0s 8ms/step - loss: 6.5234 - mae: 6.5234\n",
            "Epoch 14/100\n",
            "1/1 [==============================] - 0s 5ms/step - loss: 5.6465 - mae: 5.6465\n",
            "Epoch 15/100\n",
            "1/1 [==============================] - 0s 12ms/step - loss: 4.7012 - mae: 4.7012\n",
            "Epoch 16/100\n",
            "1/1 [==============================] - 0s 9ms/step - loss: 3.9670 - mae: 3.9670\n",
            "Epoch 17/100\n",
            "1/1 [==============================] - 0s 7ms/step - loss: 3.9042 - mae: 3.9042\n",
            "Epoch 18/100\n",
            "1/1 [==============================] - 0s 7ms/step - loss: 3.8637 - mae: 3.8637\n",
            "Epoch 19/100\n",
            "1/1 [==============================] - 0s 7ms/step - loss: 3.8341 - mae: 3.8341\n",
            "Epoch 20/100\n",
            "1/1 [==============================] - 0s 11ms/step - loss: 3.7701 - mae: 3.7701\n",
            "Epoch 21/100\n",
            "1/1 [==============================] - 0s 7ms/step - loss: 3.8141 - mae: 3.8141\n",
            "Epoch 22/100\n",
            "1/1 [==============================] - 0s 5ms/step - loss: 3.7468 - mae: 3.7468\n",
            "Epoch 23/100\n",
            "1/1 [==============================] - 0s 6ms/step - loss: 3.8248 - mae: 3.8248\n",
            "Epoch 24/100\n",
            "1/1 [==============================] - 0s 5ms/step - loss: 3.7603 - mae: 3.7603\n",
            "Epoch 25/100\n",
            "1/1 [==============================] - 0s 7ms/step - loss: 3.7995 - mae: 3.7995\n",
            "Epoch 26/100\n",
            "1/1 [==============================] - 0s 5ms/step - loss: 3.7679 - mae: 3.7679\n",
            "Epoch 27/100\n",
            "1/1 [==============================] - 0s 7ms/step - loss: 3.7741 - mae: 3.7741\n",
            "Epoch 28/100\n",
            "1/1 [==============================] - 0s 6ms/step - loss: 3.7755 - mae: 3.7755\n",
            "Epoch 29/100\n",
            "1/1 [==============================] - 0s 4ms/step - loss: 3.7484 - mae: 3.7484\n",
            "Epoch 30/100\n",
            "1/1 [==============================] - 0s 7ms/step - loss: 3.7834 - mae: 3.7834\n",
            "Epoch 31/100\n",
            "1/1 [==============================] - 0s 7ms/step - loss: 3.7257 - mae: 3.7257\n",
            "Epoch 32/100\n",
            "1/1 [==============================] - 0s 7ms/step - loss: 3.7976 - mae: 3.7976\n",
            "Epoch 33/100\n",
            "1/1 [==============================] - 0s 9ms/step - loss: 3.7300 - mae: 3.7300\n",
            "Epoch 34/100\n",
            "1/1 [==============================] - 0s 4ms/step - loss: 3.7771 - mae: 3.7771\n",
            "Epoch 35/100\n",
            "1/1 [==============================] - 0s 6ms/step - loss: 3.7378 - mae: 3.7378\n",
            "Epoch 36/100\n",
            "1/1 [==============================] - 0s 4ms/step - loss: 3.7513 - mae: 3.7513\n",
            "Epoch 37/100\n",
            "1/1 [==============================] - 0s 4ms/step - loss: 3.7457 - mae: 3.7457\n",
            "Epoch 38/100\n",
            "1/1 [==============================] - 0s 5ms/step - loss: 3.7254 - mae: 3.7254\n",
            "Epoch 39/100\n",
            "1/1 [==============================] - 0s 5ms/step - loss: 3.7537 - mae: 3.7537\n",
            "Epoch 40/100\n",
            "1/1 [==============================] - 0s 5ms/step - loss: 3.7048 - mae: 3.7048\n",
            "Epoch 41/100\n",
            "1/1 [==============================] - 0s 5ms/step - loss: 3.7682 - mae: 3.7682\n",
            "Epoch 42/100\n",
            "1/1 [==============================] - 0s 5ms/step - loss: 3.7009 - mae: 3.7009\n",
            "Epoch 43/100\n",
            "1/1 [==============================] - 0s 6ms/step - loss: 3.7533 - mae: 3.7533\n",
            "Epoch 44/100\n",
            "1/1 [==============================] - 0s 5ms/step - loss: 3.7089 - mae: 3.7089\n",
            "Epoch 45/100\n",
            "1/1 [==============================] - 0s 5ms/step - loss: 3.7273 - mae: 3.7273\n",
            "Epoch 46/100\n",
            "1/1 [==============================] - 0s 5ms/step - loss: 3.7170 - mae: 3.7170\n",
            "Epoch 47/100\n",
            "1/1 [==============================] - 0s 5ms/step - loss: 3.7012 - mae: 3.7012\n",
            "Epoch 48/100\n",
            "1/1 [==============================] - 0s 6ms/step - loss: 3.7267 - mae: 3.7267\n",
            "Epoch 49/100\n",
            "1/1 [==============================] - 0s 4ms/step - loss: 3.6805 - mae: 3.6805\n",
            "Epoch 50/100\n",
            "1/1 [==============================] - 0s 4ms/step - loss: 3.7398 - mae: 3.7398\n",
            "Epoch 51/100\n",
            "1/1 [==============================] - 0s 3ms/step - loss: 3.6729 - mae: 3.6729\n",
            "Epoch 52/100\n",
            "1/1 [==============================] - 0s 4ms/step - loss: 3.7283 - mae: 3.7283\n",
            "Epoch 53/100\n",
            "1/1 [==============================] - 0s 5ms/step - loss: 3.6811 - mae: 3.6811\n",
            "Epoch 54/100\n",
            "1/1 [==============================] - 0s 4ms/step - loss: 3.7020 - mae: 3.7020\n",
            "Epoch 55/100\n",
            "1/1 [==============================] - 0s 5ms/step - loss: 3.6894 - mae: 3.6894\n",
            "Epoch 56/100\n",
            "1/1 [==============================] - 0s 5ms/step - loss: 3.6756 - mae: 3.6756\n",
            "Epoch 57/100\n",
            "1/1 [==============================] - 0s 5ms/step - loss: 3.7014 - mae: 3.7014\n",
            "Epoch 58/100\n",
            "1/1 [==============================] - 0s 7ms/step - loss: 3.6546 - mae: 3.6546\n",
            "Epoch 59/100\n",
            "1/1 [==============================] - 0s 8ms/step - loss: 3.7126 - mae: 3.7126\n",
            "Epoch 60/100\n",
            "1/1 [==============================] - 0s 9ms/step - loss: 3.6460 - mae: 3.6460\n",
            "Epoch 61/100\n",
            "1/1 [==============================] - 0s 3ms/step - loss: 3.7020 - mae: 3.7020\n",
            "Epoch 62/100\n",
            "1/1 [==============================] - 0s 4ms/step - loss: 3.6544 - mae: 3.6544\n",
            "Epoch 63/100\n",
            "1/1 [==============================] - 0s 4ms/step - loss: 3.6754 - mae: 3.6754\n",
            "Epoch 64/100\n",
            "1/1 [==============================] - 0s 6ms/step - loss: 3.6629 - mae: 3.6629\n",
            "Epoch 65/100\n",
            "1/1 [==============================] - 0s 4ms/step - loss: 3.6487 - mae: 3.6487\n",
            "Epoch 66/100\n",
            "1/1 [==============================] - 0s 5ms/step - loss: 3.6777 - mae: 3.6777\n",
            "Epoch 67/100\n",
            "1/1 [==============================] - 0s 6ms/step - loss: 3.6274 - mae: 3.6274\n",
            "Epoch 68/100\n",
            "1/1 [==============================] - 0s 11ms/step - loss: 3.6864 - mae: 3.6864\n",
            "Epoch 69/100\n",
            "1/1 [==============================] - 0s 14ms/step - loss: 3.6201 - mae: 3.6201\n",
            "Epoch 70/100\n",
            "1/1 [==============================] - 0s 12ms/step - loss: 3.6744 - mae: 3.6744\n",
            "Epoch 71/100\n",
            "1/1 [==============================] - 0s 18ms/step - loss: 3.6287 - mae: 3.6287\n",
            "Epoch 72/100\n",
            "1/1 [==============================] - 0s 10ms/step - loss: 3.6476 - mae: 3.6476\n",
            "Epoch 73/100\n",
            "1/1 [==============================] - 0s 6ms/step - loss: 3.6374 - mae: 3.6374\n",
            "Epoch 74/100\n",
            "1/1 [==============================] - 0s 10ms/step - loss: 3.6224 - mae: 3.6224\n",
            "Epoch 75/100\n",
            "1/1 [==============================] - 0s 5ms/step - loss: 3.6524 - mae: 3.6524\n",
            "Epoch 76/100\n",
            "1/1 [==============================] - 0s 4ms/step - loss: 3.5988 - mae: 3.5988\n",
            "Epoch 77/100\n",
            "1/1 [==============================] - 0s 5ms/step - loss: 3.6613 - mae: 3.6613\n",
            "Epoch 78/100\n",
            "1/1 [==============================] - 0s 4ms/step - loss: 3.5953 - mae: 3.5953\n",
            "Epoch 79/100\n",
            "1/1 [==============================] - 0s 6ms/step - loss: 3.6455 - mae: 3.6455\n",
            "Epoch 80/100\n",
            "1/1 [==============================] - 0s 4ms/step - loss: 3.6040 - mae: 3.6040\n",
            "Epoch 81/100\n",
            "1/1 [==============================] - 0s 4ms/step - loss: 3.6183 - mae: 3.6183\n",
            "Epoch 82/100\n",
            "1/1 [==============================] - 0s 6ms/step - loss: 3.6129 - mae: 3.6129\n",
            "Epoch 83/100\n",
            "1/1 [==============================] - 0s 7ms/step - loss: 3.5946 - mae: 3.5946\n",
            "Epoch 84/100\n",
            "1/1 [==============================] - 0s 5ms/step - loss: 3.6281 - mae: 3.6281\n",
            "Epoch 85/100\n",
            "1/1 [==============================] - 0s 4ms/step - loss: 3.5689 - mae: 3.5689\n",
            "Epoch 86/100\n",
            "1/1 [==============================] - 0s 5ms/step - loss: 3.6372 - mae: 3.6372\n",
            "Epoch 87/100\n",
            "1/1 [==============================] - 0s 3ms/step - loss: 3.5714 - mae: 3.5714\n",
            "Epoch 88/100\n",
            "1/1 [==============================] - 0s 4ms/step - loss: 3.6153 - mae: 3.6153\n",
            "Epoch 89/100\n",
            "1/1 [==============================] - 0s 3ms/step - loss: 3.5804 - mae: 3.5804\n",
            "Epoch 90/100\n",
            "1/1 [==============================] - 0s 7ms/step - loss: 3.5878 - mae: 3.5878\n",
            "Epoch 91/100\n",
            "1/1 [==============================] - 0s 4ms/step - loss: 3.5895 - mae: 3.5895\n",
            "Epoch 92/100\n",
            "1/1 [==============================] - 0s 12ms/step - loss: 3.5653 - mae: 3.5653\n",
            "Epoch 93/100\n",
            "1/1 [==============================] - 0s 4ms/step - loss: 3.6049 - mae: 3.6049\n",
            "Epoch 94/100\n",
            "1/1 [==============================] - 0s 4ms/step - loss: 3.5395 - mae: 3.5395\n",
            "Epoch 95/100\n",
            "1/1 [==============================] - 0s 11ms/step - loss: 3.6114 - mae: 3.6114\n",
            "Epoch 96/100\n",
            "1/1 [==============================] - 0s 3ms/step - loss: 3.5485 - mae: 3.5485\n",
            "Epoch 97/100\n",
            "1/1 [==============================] - 0s 3ms/step - loss: 3.5837 - mae: 3.5837\n",
            "Epoch 98/100\n",
            "1/1 [==============================] - 0s 5ms/step - loss: 3.5577 - mae: 3.5577\n",
            "Epoch 99/100\n",
            "1/1 [==============================] - 0s 4ms/step - loss: 3.5558 - mae: 3.5558\n",
            "Epoch 100/100\n",
            "1/1 [==============================] - 0s 3ms/step - loss: 3.5677 - mae: 3.5677\n"
          ],
          "name": "stdout"
        },
        {
          "output_type": "execute_result",
          "data": {
            "text/plain": [
              "<keras.callbacks.History at 0x7faa6b9bf190>"
            ]
          },
          "metadata": {},
          "execution_count": 12
        }
      ]
    },
    {
      "cell_type": "code",
      "metadata": {
        "colab": {
          "base_uri": "https://localhost:8080/"
        },
        "id": "3mx9COtbT74X",
        "outputId": "9bdc1d52-8211-444c-81d6-32229253dd65"
      },
      "source": [
        "model.predict([17.0])"
      ],
      "execution_count": 13,
      "outputs": [
        {
          "output_type": "execute_result",
          "data": {
            "text/plain": [
              "array([[31.727652]], dtype=float32)"
            ]
          },
          "metadata": {},
          "execution_count": 13
        }
      ]
    },
    {
      "cell_type": "code",
      "metadata": {
        "colab": {
          "base_uri": "https://localhost:8080/"
        },
        "id": "vSGE5Ra7UIc2",
        "outputId": "acc27187-9e39-4852-a599-e1c7278e81be"
      },
      "source": [
        "# again with adding more neurons\n",
        "model = tf.keras.Sequential([\n",
        "    tf.keras.layers.Dense(50, activation = None),\n",
        "    tf.keras.layers.Dense(1)\n",
        "])\n",
        "\n",
        "model.compile(loss = tf.keras.losses.mae,\n",
        "              optimizer = tf.keras.optimizers.Adam(learning_rate = 0.01),\n",
        "              metrics = [\"mae\"]\n",
        "              )\n",
        "model.fit(X, y, epochs = 100)"
      ],
      "execution_count": 14,
      "outputs": [
        {
          "output_type": "stream",
          "text": [
            "Epoch 1/100\n",
            "1/1 [==============================] - 0s 319ms/step - loss: 13.4502 - mae: 13.4502\n",
            "Epoch 2/100\n",
            "1/1 [==============================] - 0s 4ms/step - loss: 12.7439 - mae: 12.7439\n",
            "Epoch 3/100\n",
            "1/1 [==============================] - 0s 13ms/step - loss: 12.0414 - mae: 12.0414\n",
            "Epoch 4/100\n",
            "1/1 [==============================] - 0s 5ms/step - loss: 11.3403 - mae: 11.3403\n",
            "Epoch 5/100\n",
            "1/1 [==============================] - 0s 13ms/step - loss: 10.6379 - mae: 10.6379\n",
            "Epoch 6/100\n",
            "1/1 [==============================] - 0s 4ms/step - loss: 9.9314 - mae: 9.9314\n",
            "Epoch 7/100\n",
            "1/1 [==============================] - 0s 4ms/step - loss: 9.2180 - mae: 9.2180\n",
            "Epoch 8/100\n",
            "1/1 [==============================] - 0s 3ms/step - loss: 8.4949 - mae: 8.4949\n",
            "Epoch 9/100\n",
            "1/1 [==============================] - 0s 19ms/step - loss: 7.7590 - mae: 7.7590\n",
            "Epoch 10/100\n",
            "1/1 [==============================] - 0s 7ms/step - loss: 7.0071 - mae: 7.0071\n",
            "Epoch 11/100\n",
            "1/1 [==============================] - 0s 4ms/step - loss: 6.5842 - mae: 6.5842\n",
            "Epoch 12/100\n",
            "1/1 [==============================] - 0s 10ms/step - loss: 6.9836 - mae: 6.9836\n",
            "Epoch 13/100\n",
            "1/1 [==============================] - 0s 3ms/step - loss: 7.3009 - mae: 7.3009\n",
            "Epoch 14/100\n",
            "1/1 [==============================] - 0s 6ms/step - loss: 7.5615 - mae: 7.5615\n",
            "Epoch 15/100\n",
            "1/1 [==============================] - 0s 5ms/step - loss: 7.5962 - mae: 7.5962\n",
            "Epoch 16/100\n",
            "1/1 [==============================] - 0s 6ms/step - loss: 7.4594 - mae: 7.4594\n",
            "Epoch 17/100\n",
            "1/1 [==============================] - 0s 6ms/step - loss: 7.1917 - mae: 7.1917\n",
            "Epoch 18/100\n",
            "1/1 [==============================] - 0s 5ms/step - loss: 6.8470 - mae: 6.8470\n",
            "Epoch 19/100\n",
            "1/1 [==============================] - 0s 5ms/step - loss: 6.5943 - mae: 6.5943\n",
            "Epoch 20/100\n",
            "1/1 [==============================] - 0s 8ms/step - loss: 6.3275 - mae: 6.3275\n",
            "Epoch 21/100\n",
            "1/1 [==============================] - 0s 4ms/step - loss: 6.0498 - mae: 6.0498\n",
            "Epoch 22/100\n",
            "1/1 [==============================] - 0s 3ms/step - loss: 5.9322 - mae: 5.9322\n",
            "Epoch 23/100\n",
            "1/1 [==============================] - 0s 6ms/step - loss: 6.0761 - mae: 6.0761\n",
            "Epoch 24/100\n",
            "1/1 [==============================] - 0s 6ms/step - loss: 6.1872 - mae: 6.1872\n",
            "Epoch 25/100\n",
            "1/1 [==============================] - 0s 4ms/step - loss: 6.1964 - mae: 6.1964\n",
            "Epoch 26/100\n",
            "1/1 [==============================] - 0s 5ms/step - loss: 6.1168 - mae: 6.1168\n",
            "Epoch 27/100\n",
            "1/1 [==============================] - 0s 6ms/step - loss: 5.9583 - mae: 5.9583\n",
            "Epoch 28/100\n",
            "1/1 [==============================] - 0s 6ms/step - loss: 5.7284 - mae: 5.7284\n",
            "Epoch 29/100\n",
            "1/1 [==============================] - 0s 6ms/step - loss: 5.4324 - mae: 5.4324\n",
            "Epoch 30/100\n",
            "1/1 [==============================] - 0s 4ms/step - loss: 5.2891 - mae: 5.2891\n",
            "Epoch 31/100\n",
            "1/1 [==============================] - 0s 5ms/step - loss: 5.3452 - mae: 5.3452\n",
            "Epoch 32/100\n",
            "1/1 [==============================] - 0s 6ms/step - loss: 5.3754 - mae: 5.3754\n",
            "Epoch 33/100\n",
            "1/1 [==============================] - 0s 4ms/step - loss: 5.3615 - mae: 5.3615\n",
            "Epoch 34/100\n",
            "1/1 [==============================] - 0s 8ms/step - loss: 5.3064 - mae: 5.3064\n",
            "Epoch 35/100\n",
            "1/1 [==============================] - 0s 3ms/step - loss: 5.2132 - mae: 5.2132\n",
            "Epoch 36/100\n",
            "1/1 [==============================] - 0s 5ms/step - loss: 5.0848 - mae: 5.0848\n",
            "Epoch 37/100\n",
            "1/1 [==============================] - 0s 5ms/step - loss: 4.9240 - mae: 4.9240\n",
            "Epoch 38/100\n",
            "1/1 [==============================] - 0s 6ms/step - loss: 4.7335 - mae: 4.7335\n",
            "Epoch 39/100\n",
            "1/1 [==============================] - 0s 6ms/step - loss: 4.5155 - mae: 4.5155\n",
            "Epoch 40/100\n",
            "1/1 [==============================] - 0s 9ms/step - loss: 4.3056 - mae: 4.3056\n",
            "Epoch 41/100\n",
            "1/1 [==============================] - 0s 5ms/step - loss: 4.2813 - mae: 4.2813\n",
            "Epoch 42/100\n",
            "1/1 [==============================] - 0s 6ms/step - loss: 4.2457 - mae: 4.2457\n",
            "Epoch 43/100\n",
            "1/1 [==============================] - 0s 4ms/step - loss: 4.0996 - mae: 4.0996\n",
            "Epoch 44/100\n",
            "1/1 [==============================] - 0s 4ms/step - loss: 3.8516 - mae: 3.8516\n",
            "Epoch 45/100\n",
            "1/1 [==============================] - 0s 6ms/step - loss: 3.7094 - mae: 3.7094\n",
            "Epoch 46/100\n",
            "1/1 [==============================] - 0s 8ms/step - loss: 3.6531 - mae: 3.6531\n",
            "Epoch 47/100\n",
            "1/1 [==============================] - 0s 4ms/step - loss: 3.5487 - mae: 3.5487\n",
            "Epoch 48/100\n",
            "1/1 [==============================] - 0s 4ms/step - loss: 3.3987 - mae: 3.3987\n",
            "Epoch 49/100\n",
            "1/1 [==============================] - 0s 12ms/step - loss: 3.2051 - mae: 3.2051\n",
            "Epoch 50/100\n",
            "1/1 [==============================] - 0s 4ms/step - loss: 2.9698 - mae: 2.9698\n",
            "Epoch 51/100\n",
            "1/1 [==============================] - 0s 4ms/step - loss: 2.7999 - mae: 2.7999\n",
            "Epoch 52/100\n",
            "1/1 [==============================] - 0s 5ms/step - loss: 2.6815 - mae: 2.6815\n",
            "Epoch 53/100\n",
            "1/1 [==============================] - 0s 4ms/step - loss: 2.4325 - mae: 2.4325\n",
            "Epoch 54/100\n",
            "1/1 [==============================] - 0s 4ms/step - loss: 2.2830 - mae: 2.2830\n",
            "Epoch 55/100\n",
            "1/1 [==============================] - 0s 5ms/step - loss: 2.1499 - mae: 2.1499\n",
            "Epoch 56/100\n",
            "1/1 [==============================] - 0s 8ms/step - loss: 1.9599 - mae: 1.9599\n",
            "Epoch 57/100\n",
            "1/1 [==============================] - 0s 4ms/step - loss: 1.7153 - mae: 1.7153\n",
            "Epoch 58/100\n",
            "1/1 [==============================] - 0s 4ms/step - loss: 1.4195 - mae: 1.4195\n",
            "Epoch 59/100\n",
            "1/1 [==============================] - 0s 4ms/step - loss: 1.2304 - mae: 1.2304\n",
            "Epoch 60/100\n",
            "1/1 [==============================] - 0s 28ms/step - loss: 1.0193 - mae: 1.0193\n",
            "Epoch 61/100\n",
            "1/1 [==============================] - 0s 12ms/step - loss: 0.7867 - mae: 0.7867\n",
            "Epoch 62/100\n",
            "1/1 [==============================] - 0s 5ms/step - loss: 0.5459 - mae: 0.5459\n",
            "Epoch 63/100\n",
            "1/1 [==============================] - 0s 4ms/step - loss: 0.3372 - mae: 0.3372\n",
            "Epoch 64/100\n",
            "1/1 [==============================] - 0s 5ms/step - loss: 0.1802 - mae: 0.1802\n",
            "Epoch 65/100\n",
            "1/1 [==============================] - 0s 5ms/step - loss: 0.4076 - mae: 0.4076\n",
            "Epoch 66/100\n",
            "1/1 [==============================] - 0s 5ms/step - loss: 0.5381 - mae: 0.5381\n",
            "Epoch 67/100\n",
            "1/1 [==============================] - 0s 5ms/step - loss: 0.6438 - mae: 0.6438\n",
            "Epoch 68/100\n",
            "1/1 [==============================] - 0s 4ms/step - loss: 0.6968 - mae: 0.6968\n",
            "Epoch 69/100\n",
            "1/1 [==============================] - 0s 7ms/step - loss: 0.7027 - mae: 0.7027\n",
            "Epoch 70/100\n",
            "1/1 [==============================] - 0s 11ms/step - loss: 0.6671 - mae: 0.6671\n",
            "Epoch 71/100\n",
            "1/1 [==============================] - 0s 6ms/step - loss: 0.5953 - mae: 0.5953\n",
            "Epoch 72/100\n",
            "1/1 [==============================] - 0s 5ms/step - loss: 0.4922 - mae: 0.4922\n",
            "Epoch 73/100\n",
            "1/1 [==============================] - 0s 4ms/step - loss: 0.3624 - mae: 0.3624\n",
            "Epoch 74/100\n",
            "1/1 [==============================] - 0s 5ms/step - loss: 0.2102 - mae: 0.2102\n",
            "Epoch 75/100\n",
            "1/1 [==============================] - 0s 6ms/step - loss: 0.2713 - mae: 0.2713\n",
            "Epoch 76/100\n",
            "1/1 [==============================] - 0s 7ms/step - loss: 0.2914 - mae: 0.2914\n",
            "Epoch 77/100\n",
            "1/1 [==============================] - 0s 5ms/step - loss: 0.3707 - mae: 0.3707\n",
            "Epoch 78/100\n",
            "1/1 [==============================] - 0s 4ms/step - loss: 0.4115 - mae: 0.4115\n",
            "Epoch 79/100\n",
            "1/1 [==============================] - 0s 4ms/step - loss: 0.4083 - mae: 0.4083\n",
            "Epoch 80/100\n",
            "1/1 [==============================] - 0s 5ms/step - loss: 0.4067 - mae: 0.4067\n",
            "Epoch 81/100\n",
            "1/1 [==============================] - 0s 5ms/step - loss: 0.4106 - mae: 0.4106\n",
            "Epoch 82/100\n",
            "1/1 [==============================] - 0s 6ms/step - loss: 0.3187 - mae: 0.3187\n",
            "Epoch 83/100\n",
            "1/1 [==============================] - 0s 13ms/step - loss: 0.3051 - mae: 0.3051\n",
            "Epoch 84/100\n",
            "1/1 [==============================] - 0s 5ms/step - loss: 0.2496 - mae: 0.2496\n",
            "Epoch 85/100\n",
            "1/1 [==============================] - 0s 7ms/step - loss: 0.1891 - mae: 0.1891\n",
            "Epoch 86/100\n",
            "1/1 [==============================] - 0s 5ms/step - loss: 0.3942 - mae: 0.3942\n",
            "Epoch 87/100\n",
            "1/1 [==============================] - 0s 6ms/step - loss: 0.2788 - mae: 0.2788\n",
            "Epoch 88/100\n",
            "1/1 [==============================] - 0s 5ms/step - loss: 0.2780 - mae: 0.2780\n",
            "Epoch 89/100\n",
            "1/1 [==============================] - 0s 5ms/step - loss: 0.3710 - mae: 0.3710\n",
            "Epoch 90/100\n",
            "1/1 [==============================] - 0s 5ms/step - loss: 0.2653 - mae: 0.2653\n",
            "Epoch 91/100\n",
            "1/1 [==============================] - 0s 5ms/step - loss: 0.1560 - mae: 0.1560\n",
            "Epoch 92/100\n",
            "1/1 [==============================] - 0s 6ms/step - loss: 0.1578 - mae: 0.1578\n",
            "Epoch 93/100\n",
            "1/1 [==============================] - 0s 5ms/step - loss: 0.1772 - mae: 0.1772\n",
            "Epoch 94/100\n",
            "1/1 [==============================] - 0s 5ms/step - loss: 0.1803 - mae: 0.1803\n",
            "Epoch 95/100\n",
            "1/1 [==============================] - 0s 7ms/step - loss: 0.1435 - mae: 0.1435\n",
            "Epoch 96/100\n",
            "1/1 [==============================] - 0s 6ms/step - loss: 0.2019 - mae: 0.2019\n",
            "Epoch 97/100\n",
            "1/1 [==============================] - 0s 5ms/step - loss: 0.2257 - mae: 0.2257\n",
            "Epoch 98/100\n",
            "1/1 [==============================] - 0s 5ms/step - loss: 0.2347 - mae: 0.2347\n",
            "Epoch 99/100\n",
            "1/1 [==============================] - 0s 4ms/step - loss: 0.2073 - mae: 0.2073\n",
            "Epoch 100/100\n",
            "1/1 [==============================] - 0s 5ms/step - loss: 0.1782 - mae: 0.1782\n"
          ],
          "name": "stdout"
        },
        {
          "output_type": "execute_result",
          "data": {
            "text/plain": [
              "<keras.callbacks.History at 0x7faa689fca90>"
            ]
          },
          "metadata": {},
          "execution_count": 14
        }
      ]
    },
    {
      "cell_type": "code",
      "metadata": {
        "id": "EWYCAucyVe3u",
        "colab": {
          "base_uri": "https://localhost:8080/"
        },
        "outputId": "a05d0145-76f1-4bc5-ea89-d4ca1f00b12f"
      },
      "source": [
        "model.predict([17.0])"
      ],
      "execution_count": 15,
      "outputs": [
        {
          "output_type": "stream",
          "text": [
            "WARNING:tensorflow:5 out of the last 5 calls to <function Model.make_predict_function.<locals>.predict_function at 0x7faa6b9084d0> triggered tf.function retracing. Tracing is expensive and the excessive number of tracings could be due to (1) creating @tf.function repeatedly in a loop, (2) passing tensors with different shapes, (3) passing Python objects instead of tensors. For (1), please define your @tf.function outside of the loop. For (2), @tf.function has experimental_relax_shapes=True option that relaxes argument shapes that can avoid unnecessary retracing. For (3), please refer to https://www.tensorflow.org/guide/function#controlling_retracing and https://www.tensorflow.org/api_docs/python/tf/function for  more details.\n"
          ],
          "name": "stdout"
        },
        {
          "output_type": "execute_result",
          "data": {
            "text/plain": [
              "array([[27.579298]], dtype=float32)"
            ]
          },
          "metadata": {},
          "execution_count": 15
        }
      ]
    },
    {
      "cell_type": "code",
      "metadata": {
        "id": "FYL7sZZ7Vjfx",
        "colab": {
          "base_uri": "https://localhost:8080/"
        },
        "outputId": "0e3e353a-6e5d-4ff2-ba67-c46805d5d240"
      },
      "source": [
        "# working with a bigger dataset\n",
        "X = tf.range(-100, 100, 4)\n",
        "X"
      ],
      "execution_count": 16,
      "outputs": [
        {
          "output_type": "execute_result",
          "data": {
            "text/plain": [
              "<tf.Tensor: shape=(50,), dtype=int32, numpy=\n",
              "array([-100,  -96,  -92,  -88,  -84,  -80,  -76,  -72,  -68,  -64,  -60,\n",
              "        -56,  -52,  -48,  -44,  -40,  -36,  -32,  -28,  -24,  -20,  -16,\n",
              "        -12,   -8,   -4,    0,    4,    8,   12,   16,   20,   24,   28,\n",
              "         32,   36,   40,   44,   48,   52,   56,   60,   64,   68,   72,\n",
              "         76,   80,   84,   88,   92,   96], dtype=int32)>"
            ]
          },
          "metadata": {},
          "execution_count": 16
        }
      ]
    },
    {
      "cell_type": "code",
      "metadata": {
        "colab": {
          "base_uri": "https://localhost:8080/"
        },
        "id": "ekCm0dLeoiGG",
        "outputId": "73eb6da9-9b46-4f22-f910-56d4014cbee5"
      },
      "source": [
        "y = X + 10\n",
        "y"
      ],
      "execution_count": 17,
      "outputs": [
        {
          "output_type": "execute_result",
          "data": {
            "text/plain": [
              "<tf.Tensor: shape=(50,), dtype=int32, numpy=\n",
              "array([-90, -86, -82, -78, -74, -70, -66, -62, -58, -54, -50, -46, -42,\n",
              "       -38, -34, -30, -26, -22, -18, -14, -10,  -6,  -2,   2,   6,  10,\n",
              "        14,  18,  22,  26,  30,  34,  38,  42,  46,  50,  54,  58,  62,\n",
              "        66,  70,  74,  78,  82,  86,  90,  94,  98, 102, 106], dtype=int32)>"
            ]
          },
          "metadata": {},
          "execution_count": 17
        }
      ]
    },
    {
      "cell_type": "code",
      "metadata": {
        "colab": {
          "base_uri": "https://localhost:8080/",
          "height": 282
        },
        "id": "CDGR0h6DokG8",
        "outputId": "55846027-ecd9-4683-b550-bffaa014f999"
      },
      "source": [
        "plt.scatter(X, y)"
      ],
      "execution_count": 18,
      "outputs": [
        {
          "output_type": "execute_result",
          "data": {
            "text/plain": [
              "<matplotlib.collections.PathCollection at 0x7faa68595ad0>"
            ]
          },
          "metadata": {},
          "execution_count": 18
        },
        {
          "output_type": "display_data",
          "data": {
            "image/png": "[encoded data removed]",
            "text/plain": [
              "<Figure size 432x288 with 1 Axes>"
            ]
          },
          "metadata": {
            "needs_background": "light"
          }
        }
      ]
    },
    {
      "cell_type": "code",
      "metadata": {
        "colab": {
          "base_uri": "https://localhost:8080/"
        },
        "id": "syp7C_QRomQT",
        "outputId": "994d1eb3-faae-48df-8bf5-d67c5e09eaa0"
      },
      "source": [
        "# length of the dataset\n",
        "len(X)"
      ],
      "execution_count": 19,
      "outputs": [
        {
          "output_type": "execute_result",
          "data": {
            "text/plain": [
              "50"
            ]
          },
          "metadata": {},
          "execution_count": 19
        }
      ]
    },
    {
      "cell_type": "code",
      "metadata": {
        "colab": {
          "base_uri": "https://localhost:8080/"
        },
        "id": "p9zcdJg3pTS4",
        "outputId": "1f7e66c7-f5d1-45e9-82a5-e747468adcd6"
      },
      "source": [
        "X_train = X[:40]\n",
        "y_train = y[:40]\n",
        "X_train, y_train, len(X_train), len(y_train)"
      ],
      "execution_count": 21,
      "outputs": [
        {
          "output_type": "execute_result",
          "data": {
            "text/plain": [
              "(<tf.Tensor: shape=(40,), dtype=int32, numpy=\n",
              " array([-100,  -96,  -92,  -88,  -84,  -80,  -76,  -72,  -68,  -64,  -60,\n",
              "         -56,  -52,  -48,  -44,  -40,  -36,  -32,  -28,  -24,  -20,  -16,\n",
              "         -12,   -8,   -4,    0,    4,    8,   12,   16,   20,   24,   28,\n",
              "          32,   36,   40,   44,   48,   52,   56], dtype=int32)>,\n",
              " <tf.Tensor: shape=(40,), dtype=int32, numpy=\n",
              " array([-90, -86, -82, -78, -74, -70, -66, -62, -58, -54, -50, -46, -42,\n",
              "        -38, -34, -30, -26, -22, -18, -14, -10,  -6,  -2,   2,   6,  10,\n",
              "         14,  18,  22,  26,  30,  34,  38,  42,  46,  50,  54,  58,  62,\n",
              "         66], dtype=int32)>,\n",
              " 40,\n",
              " 40)"
            ]
          },
          "metadata": {},
          "execution_count": 21
        }
      ]
    },
    {
      "cell_type": "code",
      "metadata": {
        "colab": {
          "base_uri": "https://localhost:8080/"
        },
        "id": "hNWApRvhpZ9Y",
        "outputId": "b84b4cd6-05b9-45b3-d207-d7c93f63bc57"
      },
      "source": [
        "X_test = X[40:]\n",
        "y_test = y[40:]\n",
        "X_test, y_test, len(X_test), len(y_test)"
      ],
      "execution_count": 26,
      "outputs": [
        {
          "output_type": "execute_result",
          "data": {
            "text/plain": [
              "(<tf.Tensor: shape=(10,), dtype=int32, numpy=array([60, 64, 68, 72, 76, 80, 84, 88, 92, 96], dtype=int32)>,\n",
              " <tf.Tensor: shape=(10,), dtype=int32, numpy=array([ 70,  74,  78,  82,  86,  90,  94,  98, 102, 106], dtype=int32)>,\n",
              " 10,\n",
              " 10)"
            ]
          },
          "metadata": {},
          "execution_count": 26
        }
      ]
    },
    {
      "cell_type": "code",
      "metadata": {
        "colab": {
          "base_uri": "https://localhost:8080/",
          "height": 428
        },
        "id": "Afud0RpjpqGZ",
        "outputId": "60b84340-20a4-44d5-b52d-2d1a3119bdc0"
      },
      "source": [
        "plt.figure(figsize = (10, 7))\n",
        "plt.scatter(X_train, y_train, c = \"b\", label = \"Training data\")\n",
        "plt.scatter(X_test, y_test, c = \"g\", label = \"Testing data\")\n",
        "plt.legend()\n",
        "plt.show()"
      ],
      "execution_count": 27,
      "outputs": [
        {
          "output_type": "display_data",
          "data": {
            "image/png": "[encoded data removed]",
            "text/plain": [
              "<Figure size 720x504 with 1 Axes>"
            ]
          },
          "metadata": {
            "needs_background": "light"
          }
        }
      ]
    },
    {
      "cell_type": "code",
      "metadata": {
        "id": "9yYamsbUqu2Y"
      },
      "source": [
        "model = tf.keras.Sequential(\n",
        "    [tf.keras.layers.Dense(1, input_shape = [1])]\n",
        ")\n",
        "\n",
        "model.compile(\n",
        "    loss = tf.keras.losses.mae,\n",
        "    optimizer = tf.keras.optimizers.SGD(),\n",
        "    metrics = [\"mae\"]\n",
        ")\n"
      ],
      "execution_count": 28,
      "outputs": []
    },
    {
      "cell_type": "code",
      "metadata": {
        "colab": {
          "base_uri": "https://localhost:8080/"
        },
        "id": "MGU6pSESvYje",
        "outputId": "a5ffbf9b-2d48-438e-8282-2c050387f664"
      },
      "source": [
        "model.summary()"
      ],
      "execution_count": 29,
      "outputs": [
        {
          "output_type": "stream",
          "text": [
            "Model: \"sequential_5\"\n",
            "_________________________________________________________________\n",
            "Layer (type)                 Output Shape              Param #   \n",
            "=================================================================\n",
            "dense_7 (Dense)              (None, 1)                 2         \n",
            "=================================================================\n",
            "Total params: 2\n",
            "Trainable params: 2\n",
            "Non-trainable params: 0\n",
            "_________________________________________________________________\n"
          ],
          "name": "stdout"
        }
      ]
    },
    {
      "cell_type": "code",
      "metadata": {
        "colab": {
          "base_uri": "https://localhost:8080/"
        },
        "id": "OOrJYl5RvamC",
        "outputId": "5a2fcbe3-3add-4680-ea50-266fa6c86a35"
      },
      "source": [
        "model.fit(X_train, y_train, epochs = 100)"
      ],
      "execution_count": 31,
      "outputs": [
        {
          "output_type": "stream",
          "text": [
            "Epoch 1/100\n",
            "2/2 [==============================] - 0s 5ms/step - loss: 90.5424 - mae: 90.5424\n",
            "Epoch 2/100\n",
            "2/2 [==============================] - 0s 2ms/step - loss: 55.0869 - mae: 55.0869\n",
            "Epoch 3/100\n",
            "2/2 [==============================] - 0s 6ms/step - loss: 18.8117 - mae: 18.8117\n",
            "Epoch 4/100\n",
            "2/2 [==============================] - 0s 8ms/step - loss: 10.1430 - mae: 10.1430\n",
            "Epoch 5/100\n",
            "2/2 [==============================] - 0s 6ms/step - loss: 11.1354 - mae: 11.1354\n",
            "Epoch 6/100\n",
            "2/2 [==============================] - 0s 11ms/step - loss: 10.2855 - mae: 10.2855\n",
            "Epoch 7/100\n",
            "2/2 [==============================] - 0s 4ms/step - loss: 9.2888 - mae: 9.2888\n",
            "Epoch 8/100\n",
            "2/2 [==============================] - 0s 6ms/step - loss: 9.2041 - mae: 9.2041\n",
            "Epoch 9/100\n",
            "2/2 [==============================] - 0s 6ms/step - loss: 11.8460 - mae: 11.8460\n",
            "Epoch 10/100\n",
            "2/2 [==============================] - 0s 4ms/step - loss: 13.7814 - mae: 13.7814\n",
            "Epoch 11/100\n",
            "2/2 [==============================] - 0s 3ms/step - loss: 11.8737 - mae: 11.8737\n",
            "Epoch 12/100\n",
            "2/2 [==============================] - 0s 6ms/step - loss: 16.3358 - mae: 16.3358\n",
            "Epoch 13/100\n",
            "2/2 [==============================] - 0s 4ms/step - loss: 11.9005 - mae: 11.9005\n",
            "Epoch 14/100\n",
            "2/2 [==============================] - 0s 9ms/step - loss: 13.8083 - mae: 13.8083\n",
            "Epoch 15/100\n",
            "2/2 [==============================] - 0s 6ms/step - loss: 11.1939 - mae: 11.1939\n",
            "Epoch 16/100\n",
            "2/2 [==============================] - 0s 4ms/step - loss: 8.6319 - mae: 8.6319\n",
            "Epoch 17/100\n",
            "2/2 [==============================] - 0s 3ms/step - loss: 13.8217 - mae: 13.8217\n",
            "Epoch 18/100\n",
            "2/2 [==============================] - 0s 4ms/step - loss: 11.6899 - mae: 11.6899\n",
            "Epoch 19/100\n",
            "2/2 [==============================] - 0s 5ms/step - loss: 17.6896 - mae: 17.6896\n",
            "Epoch 20/100\n",
            "2/2 [==============================] - 0s 3ms/step - loss: 14.8260 - mae: 14.8260\n",
            "Epoch 21/100\n",
            "2/2 [==============================] - 0s 3ms/step - loss: 10.7476 - mae: 10.7476\n",
            "Epoch 22/100\n",
            "2/2 [==============================] - 0s 3ms/step - loss: 8.4853 - mae: 8.4853\n",
            "Epoch 23/100\n",
            "2/2 [==============================] - 0s 5ms/step - loss: 9.8422 - mae: 9.8422\n",
            "Epoch 24/100\n",
            "2/2 [==============================] - 0s 4ms/step - loss: 10.8415 - mae: 10.8415\n",
            "Epoch 25/100\n",
            "2/2 [==============================] - 0s 6ms/step - loss: 9.1293 - mae: 9.1293\n",
            "Epoch 26/100\n",
            "2/2 [==============================] - 0s 3ms/step - loss: 13.0680 - mae: 13.0680\n",
            "Epoch 27/100\n",
            "2/2 [==============================] - 0s 3ms/step - loss: 10.4138 - mae: 10.4138\n",
            "Epoch 28/100\n",
            "2/2 [==============================] - 0s 5ms/step - loss: 13.4086 - mae: 13.4086\n",
            "Epoch 29/100\n",
            "2/2 [==============================] - 0s 3ms/step - loss: 9.6326 - mae: 9.6326\n",
            "Epoch 30/100\n",
            "2/2 [==============================] - 0s 4ms/step - loss: 17.2117 - mae: 17.2117\n",
            "Epoch 31/100\n",
            "2/2 [==============================] - 0s 6ms/step - loss: 22.8706 - mae: 22.8706\n",
            "Epoch 32/100\n",
            "2/2 [==============================] - 0s 4ms/step - loss: 7.9403 - mae: 7.9403\n",
            "Epoch 33/100\n",
            "2/2 [==============================] - 0s 3ms/step - loss: 14.1578 - mae: 14.1578\n",
            "Epoch 34/100\n",
            "2/2 [==============================] - 0s 4ms/step - loss: 12.4064 - mae: 12.4064\n",
            "Epoch 35/100\n",
            "2/2 [==============================] - 0s 4ms/step - loss: 8.2816 - mae: 8.2816\n",
            "Epoch 36/100\n",
            "2/2 [==============================] - 0s 4ms/step - loss: 10.5006 - mae: 10.5006\n",
            "Epoch 37/100\n",
            "2/2 [==============================] - 0s 6ms/step - loss: 10.1465 - mae: 10.1465\n",
            "Epoch 38/100\n",
            "2/2 [==============================] - 0s 8ms/step - loss: 11.3381 - mae: 11.3381\n",
            "Epoch 39/100\n",
            "2/2 [==============================] - 0s 4ms/step - loss: 14.7818 - mae: 14.7818\n",
            "Epoch 40/100\n",
            "2/2 [==============================] - 0s 5ms/step - loss: 12.9119 - mae: 12.9119\n",
            "Epoch 41/100\n",
            "2/2 [==============================] - 0s 3ms/step - loss: 9.3038 - mae: 9.3038\n",
            "Epoch 42/100\n",
            "2/2 [==============================] - 0s 7ms/step - loss: 11.0209 - mae: 11.0209\n",
            "Epoch 43/100\n",
            "2/2 [==============================] - 0s 3ms/step - loss: 8.3553 - mae: 8.3553\n",
            "Epoch 44/100\n",
            "2/2 [==============================] - 0s 3ms/step - loss: 13.0533 - mae: 13.0533\n",
            "Epoch 45/100\n",
            "2/2 [==============================] - 0s 5ms/step - loss: 13.7033 - mae: 13.7033\n",
            "Epoch 46/100\n",
            "2/2 [==============================] - 0s 6ms/step - loss: 8.3147 - mae: 8.3147\n",
            "Epoch 47/100\n",
            "2/2 [==============================] - 0s 4ms/step - loss: 8.7424 - mae: 8.7424\n",
            "Epoch 48/100\n",
            "2/2 [==============================] - 0s 3ms/step - loss: 10.0410 - mae: 10.0410\n",
            "Epoch 49/100\n",
            "2/2 [==============================] - 0s 4ms/step - loss: 8.5270 - mae: 8.5270\n",
            "Epoch 50/100\n",
            "2/2 [==============================] - 0s 5ms/step - loss: 9.0305 - mae: 9.0305\n",
            "Epoch 51/100\n",
            "2/2 [==============================] - 0s 3ms/step - loss: 9.3946 - mae: 9.3946\n",
            "Epoch 52/100\n",
            "2/2 [==============================] - 0s 3ms/step - loss: 14.1665 - mae: 14.1665\n",
            "Epoch 53/100\n",
            "2/2 [==============================] - 0s 6ms/step - loss: 14.9109 - mae: 14.9109\n",
            "Epoch 54/100\n",
            "2/2 [==============================] - 0s 3ms/step - loss: 14.8504 - mae: 14.8504\n",
            "Epoch 55/100\n",
            "2/2 [==============================] - 0s 8ms/step - loss: 12.6347 - mae: 12.6347\n",
            "Epoch 56/100\n",
            "2/2 [==============================] - 0s 4ms/step - loss: 7.6221 - mae: 7.6221\n",
            "Epoch 57/100\n",
            "2/2 [==============================] - 0s 3ms/step - loss: 8.8068 - mae: 8.8068\n",
            "Epoch 58/100\n",
            "2/2 [==============================] - 0s 3ms/step - loss: 8.3971 - mae: 8.3971\n",
            "Epoch 59/100\n",
            "2/2 [==============================] - 0s 4ms/step - loss: 9.1905 - mae: 9.1905\n",
            "Epoch 60/100\n",
            "2/2 [==============================] - 0s 4ms/step - loss: 9.1366 - mae: 9.1366\n",
            "Epoch 61/100\n",
            "2/2 [==============================] - 0s 4ms/step - loss: 10.6724 - mae: 10.6724\n",
            "Epoch 62/100\n",
            "2/2 [==============================] - 0s 3ms/step - loss: 7.4618 - mae: 7.4618\n",
            "Epoch 63/100\n",
            "2/2 [==============================] - 0s 4ms/step - loss: 10.5575 - mae: 10.5575\n",
            "Epoch 64/100\n",
            "2/2 [==============================] - 0s 3ms/step - loss: 12.1660 - mae: 12.1660\n",
            "Epoch 65/100\n",
            "2/2 [==============================] - 0s 5ms/step - loss: 9.4880 - mae: 9.4880\n",
            "Epoch 66/100\n",
            "2/2 [==============================] - 0s 4ms/step - loss: 11.5730 - mae: 11.5730\n",
            "Epoch 67/100\n",
            "2/2 [==============================] - 0s 4ms/step - loss: 8.0413 - mae: 8.0413\n",
            "Epoch 68/100\n",
            "2/2 [==============================] - 0s 3ms/step - loss: 8.5764 - mae: 8.5764\n",
            "Epoch 69/100\n",
            "2/2 [==============================] - 0s 6ms/step - loss: 12.2353 - mae: 12.2353\n",
            "Epoch 70/100\n",
            "2/2 [==============================] - 0s 4ms/step - loss: 8.9584 - mae: 8.9584\n",
            "Epoch 71/100\n",
            "2/2 [==============================] - 0s 4ms/step - loss: 9.9306 - mae: 9.9306\n",
            "Epoch 72/100\n",
            "2/2 [==============================] - 0s 4ms/step - loss: 9.9749 - mae: 9.9749\n",
            "Epoch 73/100\n",
            "2/2 [==============================] - 0s 3ms/step - loss: 12.4195 - mae: 12.4195\n",
            "Epoch 74/100\n",
            "2/2 [==============================] - 0s 3ms/step - loss: 10.6357 - mae: 10.6357\n",
            "Epoch 75/100\n",
            "2/2 [==============================] - 0s 4ms/step - loss: 9.6304 - mae: 9.6304\n",
            "Epoch 76/100\n",
            "2/2 [==============================] - 0s 8ms/step - loss: 11.0892 - mae: 11.0892\n",
            "Epoch 77/100\n",
            "2/2 [==============================] - 0s 5ms/step - loss: 8.2794 - mae: 8.2794\n",
            "Epoch 78/100\n",
            "2/2 [==============================] - 0s 4ms/step - loss: 8.9557 - mae: 8.9557\n",
            "Epoch 79/100\n",
            "2/2 [==============================] - 0s 5ms/step - loss: 19.8636 - mae: 19.8636\n",
            "Epoch 80/100\n",
            "2/2 [==============================] - 0s 5ms/step - loss: 17.7779 - mae: 17.7779\n",
            "Epoch 81/100\n",
            "2/2 [==============================] - 0s 7ms/step - loss: 7.1239 - mae: 7.1239\n",
            "Epoch 82/100\n",
            "2/2 [==============================] - 0s 3ms/step - loss: 10.4046 - mae: 10.4046\n",
            "Epoch 83/100\n",
            "2/2 [==============================] - 0s 4ms/step - loss: 9.8220 - mae: 9.8220\n",
            "Epoch 84/100\n",
            "2/2 [==============================] - 0s 3ms/step - loss: 7.9738 - mae: 7.9738\n",
            "Epoch 85/100\n",
            "2/2 [==============================] - 0s 14ms/step - loss: 9.4916 - mae: 9.4916\n",
            "Epoch 86/100\n",
            "2/2 [==============================] - 0s 12ms/step - loss: 9.5318 - mae: 9.5318\n",
            "Epoch 87/100\n",
            "2/2 [==============================] - 0s 15ms/step - loss: 11.4847 - mae: 11.4847\n",
            "Epoch 88/100\n",
            "2/2 [==============================] - 0s 7ms/step - loss: 9.9850 - mae: 9.9850\n",
            "Epoch 89/100\n",
            "2/2 [==============================] - 0s 7ms/step - loss: 7.2766 - mae: 7.2766\n",
            "Epoch 90/100\n",
            "2/2 [==============================] - 0s 9ms/step - loss: 12.7504 - mae: 12.7504\n",
            "Epoch 91/100\n",
            "2/2 [==============================] - 0s 19ms/step - loss: 7.3469 - mae: 7.3469\n",
            "Epoch 92/100\n",
            "2/2 [==============================] - 0s 11ms/step - loss: 7.7138 - mae: 7.7138\n",
            "Epoch 93/100\n",
            "2/2 [==============================] - 0s 8ms/step - loss: 7.1399 - mae: 7.1399\n",
            "Epoch 94/100\n",
            "2/2 [==============================] - 0s 3ms/step - loss: 12.5949 - mae: 12.5949\n",
            "Epoch 95/100\n",
            "2/2 [==============================] - 0s 4ms/step - loss: 9.9720 - mae: 9.9720\n",
            "Epoch 96/100\n",
            "2/2 [==============================] - 0s 5ms/step - loss: 9.1477 - mae: 9.1477\n",
            "Epoch 97/100\n",
            "2/2 [==============================] - 0s 6ms/step - loss: 12.0696 - mae: 12.0696\n",
            "Epoch 98/100\n",
            "2/2 [==============================] - 0s 3ms/step - loss: 9.1167 - mae: 9.1167\n",
            "Epoch 99/100\n",
            "2/2 [==============================] - 0s 6ms/step - loss: 8.5091 - mae: 8.5091\n",
            "Epoch 100/100\n",
            "2/2 [==============================] - 0s 3ms/step - loss: 14.4262 - mae: 14.4262\n"
          ],
          "name": "stdout"
        },
        {
          "output_type": "execute_result",
          "data": {
            "text/plain": [
              "<keras.callbacks.History at 0x7faa6c471650>"
            ]
          },
          "metadata": {},
          "execution_count": 31
        }
      ]
    },
    {
      "cell_type": "code",
      "metadata": {
        "id": "fZ8Oi_BYvws5"
      },
      "source": [
        "from tensorflow.keras.utils import plot_model"
      ],
      "execution_count": 32,
      "outputs": []
    },
    {
      "cell_type": "code",
      "metadata": {
        "colab": {
          "base_uri": "https://localhost:8080/",
          "height": 201
        },
        "id": "AhmOs9wvxE3D",
        "outputId": "aee31913-3fbd-4f84-e130-8172e6913eb1"
      },
      "source": [
        "plot_model(model = model, show_shapes = True)"
      ],
      "execution_count": 33,
      "outputs": [
        {
          "output_type": "execute_result",
          "data": {
            "image/png": "[encoded data removed]",
            "text/plain": [
              "<IPython.core.display.Image object>"
            ]
          },
          "metadata": {},
          "execution_count": 33
        }
      ]
    },
    {
      "cell_type": "code",
      "metadata": {
        "id": "j_mkCPTFxJUX"
      },
      "source": [
        ""
      ],
      "execution_count": null,
      "outputs": []
    }
  ]
}