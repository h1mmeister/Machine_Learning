{
  "nbformat": 4,
  "nbformat_minor": 0,
  "metadata": {
    "colab": {
      "name": "01_neural_network_regression.ipynb",
      "provenance": [],
      "collapsed_sections": [],
      "authorship_tag": "ABX9TyPtkJcubs43egmiZEUDUN/x",
      "include_colab_link": true
    },
    "kernelspec": {
      "name": "python3",
      "display_name": "Python 3"
    },
    "language_info": {
      "name": "python"
    }
  },
  "cells": [
    {
      "cell_type": "markdown",
      "metadata": {
        "id": "view-in-github",
        "colab_type": "text"
      },
      "source": [
        "<a href=\"https://colab.research.google.com/github/h1mmeister/Machine_Learning/blob/main/01_neural_network_regression.ipynb\" target=\"_parent\"><img src=\"https://colab.research.google.com/assets/colab-badge.svg\" alt=\"Open In Colab\"/></a>"
      ]
    },
    {
      "cell_type": "markdown",
      "metadata": {
        "id": "yqCJeVjizwW0"
      },
      "source": [
        "### Introduction to Regression with Neural Networks with TensorFlow"
      ]
    },
    {
      "cell_type": "code",
      "metadata": {
        "colab": {
          "base_uri": "https://localhost:8080/"
        },
        "id": "OjwWrFj_yKhU",
        "outputId": "59175b67-4309-486b-c52d-496db6bd5478"
      },
      "source": [
        "# import TensorFlow\n",
        "import tensorflow as tf\n",
        "print(tf.__version__)"
      ],
      "execution_count": 1,
      "outputs": [
        {
          "output_type": "stream",
          "text": [
            "2.5.0\n"
          ],
          "name": "stdout"
        }
      ]
    },
    {
      "cell_type": "markdown",
      "metadata": {
        "id": "UeUiM3DH06--"
      },
      "source": [
        "### Creating data to view and fit"
      ]
    },
    {
      "cell_type": "code",
      "metadata": {
        "colab": {
          "base_uri": "https://localhost:8080/",
          "height": 265
        },
        "id": "MXenHg-H0bb0",
        "outputId": "ab838137-133f-4923-8ebd-2d07ece784bf"
      },
      "source": [
        "import numpy as np\n",
        "import matplotlib.pyplot as plt\n",
        "\n",
        "# create features\n",
        "X = np.array([-7.0, -4.0, -1.0, 2.0, 5.0, 8.0, 11.0, 14.0])\n",
        "\n",
        "# create labels\n",
        "y = np.array([3.0, 6.0, 9.0, 12.0, 15.0, 18.0, 21.0, 25.0])\n",
        "\n",
        "plt.scatter(X, y)\n",
        "plt.show()"
      ],
      "execution_count": 2,
      "outputs": [
        {
          "output_type": "display_data",
          "data": {
            "image/png": "[encoded data removed]",
            "text/plain": [
              "<Figure size 432x288 with 1 Axes>"
            ]
          },
          "metadata": {
            "tags": [],
            "needs_background": "light"
          }
        }
      ]
    },
    {
      "cell_type": "markdown",
      "metadata": {
        "id": "2OFlrvc4NNNM"
      },
      "source": [
        "\n",
        "\n",
        "```\n",
        "# This is formatted as code\n",
        "```\n",
        "\n",
        "### Input and Output Shapes"
      ]
    },
    {
      "cell_type": "code",
      "metadata": {
        "id": "XrDR4alQ1-YL",
        "colab": {
          "base_uri": "https://localhost:8080/"
        },
        "outputId": "1d58f214-f2dc-45b5-fe33-071e77abfb42"
      },
      "source": [
        "# create demo tensor for housing price prediction problem\n",
        "housing_info = tf.constant([\"bedroom\", \"bathroom\", \"garage\"])\n",
        "housing_price = tf.constant([939700])\n",
        "housing_info, housing_price"
      ],
      "execution_count": 3,
      "outputs": [
        {
          "output_type": "execute_result",
          "data": {
            "text/plain": [
              "(<tf.Tensor: shape=(3,), dtype=string, numpy=array([b'bedroom', b'bathroom', b'garage'], dtype=object)>,\n",
              " <tf.Tensor: shape=(1,), dtype=int32, numpy=array([939700], dtype=int32)>)"
            ]
          },
          "metadata": {
            "tags": []
          },
          "execution_count": 3
        }
      ]
    },
    {
      "cell_type": "code",
      "metadata": {
        "colab": {
          "base_uri": "https://localhost:8080/"
        },
        "id": "C9Mvsw8vOMc2",
        "outputId": "31e62e44-5e63-41ba-9c5c-dff2406e029b"
      },
      "source": [
        "input_shape = X.shape\n",
        "output_shape = y.shape\n",
        "input_shape, output_shape"
      ],
      "execution_count": 4,
      "outputs": [
        {
          "output_type": "execute_result",
          "data": {
            "text/plain": [
              "((8,), (8,))"
            ]
          },
          "metadata": {
            "tags": []
          },
          "execution_count": 4
        }
      ]
    },
    {
      "cell_type": "code",
      "metadata": {
        "id": "lE3d0i-BPfor",
        "colab": {
          "base_uri": "https://localhost:8080/"
        },
        "outputId": "7fe759be-049f-4e9b-b79e-39d9ff80c656"
      },
      "source": [
        "X = tf.cast(tf.constant(X), dtype = tf.float32)\n",
        "y = tf.cast(tf.constant(y), dtype = tf.float32)\n",
        "X, y"
      ],
      "execution_count": 7,
      "outputs": [
        {
          "output_type": "execute_result",
          "data": {
            "text/plain": [
              "(<tf.Tensor: shape=(8,), dtype=float32, numpy=array([-7., -4., -1.,  2.,  5.,  8., 11., 14.], dtype=float32)>,\n",
              " <tf.Tensor: shape=(8,), dtype=float32, numpy=array([ 3.,  6.,  9., 12., 15., 18., 21., 25.], dtype=float32)>)"
            ]
          },
          "metadata": {
            "tags": []
          },
          "execution_count": 7
        }
      ]
    },
    {
      "cell_type": "markdown",
      "metadata": {
        "id": "jRH4C8qe_492"
      },
      "source": [
        "### Steps in modelling with Tensorflow"
      ]
    },
    {
      "cell_type": "code",
      "metadata": {
        "colab": {
          "base_uri": "https://localhost:8080/"
        },
        "id": "kB0UIHeN_2RJ",
        "outputId": "52ea51d2-882e-48a0-c793-3714a630412a"
      },
      "source": [
        "# set the random seed\n",
        "tf.random.set_seed(42)\n",
        "\n",
        "# creating the model using the sequential api\n",
        "model = tf.keras.Sequential([\n",
        "        tf.keras.layers.Dense(1)                            \n",
        "])\n",
        "\n",
        "# compling the model\n",
        "model.compile(loss = tf.keras.losses.mae, \n",
        "              optimizer = tf.keras.optimizers.SGD(),\n",
        "              metrics = [\"mae\"]\n",
        "              )\n",
        "\n",
        "# fitting the model\n",
        "model.fit(X, y, epochs = 5)\n"
      ],
      "execution_count": 8,
      "outputs": [
        {
          "output_type": "stream",
          "text": [
            "Epoch 1/5\n",
            "1/1 [==============================] - 0s 344ms/step - loss: 11.6298 - mae: 11.6298\n",
            "Epoch 2/5\n",
            "1/1 [==============================] - 0s 4ms/step - loss: 11.4973 - mae: 11.4973\n",
            "Epoch 3/5\n",
            "1/1 [==============================] - 0s 8ms/step - loss: 11.3648 - mae: 11.3648\n",
            "Epoch 4/5\n",
            "1/1 [==============================] - 0s 6ms/step - loss: 11.2323 - mae: 11.2323\n",
            "Epoch 5/5\n",
            "1/1 [==============================] - 0s 7ms/step - loss: 11.0998 - mae: 11.0998\n"
          ],
          "name": "stdout"
        },
        {
          "output_type": "execute_result",
          "data": {
            "text/plain": [
              "<tensorflow.python.keras.callbacks.History at 0x7ff0f4d6bb50>"
            ]
          },
          "metadata": {
            "tags": []
          },
          "execution_count": 8
        }
      ]
    },
    {
      "cell_type": "code",
      "metadata": {
        "colab": {
          "base_uri": "https://localhost:8080/"
        },
        "id": "riot7WXfMT5w",
        "outputId": "33756df8-2a38-4b82-dcc2-7f5fff0e9173"
      },
      "source": [
        "# making a prediction with our model\n",
        "model.predict([17.0])\n"
      ],
      "execution_count": 9,
      "outputs": [
        {
          "output_type": "execute_result",
          "data": {
            "text/plain": [
              "array([[12.716021]], dtype=float32)"
            ]
          },
          "metadata": {
            "tags": []
          },
          "execution_count": 9
        }
      ]
    },
    {
      "cell_type": "code",
      "metadata": {
        "colab": {
          "base_uri": "https://localhost:8080/"
        },
        "id": "yRQGar2dN8_k",
        "outputId": "0281c6f7-5f92-4afc-d602-03971a44cc4c"
      },
      "source": [
        "# recreating the model with more epochs\n",
        "model = tf.keras.Sequential([\n",
        "    tf.keras.layers.Dense(1)\n",
        "])\n",
        "\n",
        "model.compile(loss = tf.keras.losses.mae,\n",
        "              optimizer = tf.keras.optimizers.SGD(),\n",
        "              metrics = [\"mae\"]\n",
        "              )\n",
        "model.fit(X, y, epochs = 100)"
      ],
      "execution_count": 11,
      "outputs": [
        {
          "output_type": "stream",
          "text": [
            "Epoch 1/100\n",
            "1/1 [==============================] - 0s 255ms/step - loss: 11.3469 - mae: 11.3469\n",
            "Epoch 2/100\n",
            "1/1 [==============================] - 0s 6ms/step - loss: 11.2144 - mae: 11.2144\n",
            "Epoch 3/100\n",
            "1/1 [==============================] - 0s 5ms/step - loss: 11.0819 - mae: 11.0819\n",
            "Epoch 4/100\n",
            "1/1 [==============================] - 0s 11ms/step - loss: 10.9494 - mae: 10.9494\n",
            "Epoch 5/100\n",
            "1/1 [==============================] - 0s 7ms/step - loss: 10.8169 - mae: 10.8169\n",
            "Epoch 6/100\n",
            "1/1 [==============================] - 0s 7ms/step - loss: 10.6844 - mae: 10.6844\n",
            "Epoch 7/100\n",
            "1/1 [==============================] - 0s 4ms/step - loss: 10.5519 - mae: 10.5519\n",
            "Epoch 8/100\n",
            "1/1 [==============================] - 0s 5ms/step - loss: 10.4194 - mae: 10.4194\n",
            "Epoch 9/100\n",
            "1/1 [==============================] - 0s 6ms/step - loss: 10.2869 - mae: 10.2869\n",
            "Epoch 10/100\n",
            "1/1 [==============================] - 0s 7ms/step - loss: 10.1544 - mae: 10.1544\n",
            "Epoch 11/100\n",
            "1/1 [==============================] - 0s 6ms/step - loss: 10.0219 - mae: 10.0219\n",
            "Epoch 12/100\n",
            "1/1 [==============================] - 0s 5ms/step - loss: 9.8894 - mae: 9.8894\n",
            "Epoch 13/100\n",
            "1/1 [==============================] - 0s 6ms/step - loss: 9.7569 - mae: 9.7569\n",
            "Epoch 14/100\n",
            "1/1 [==============================] - 0s 4ms/step - loss: 9.6244 - mae: 9.6244\n",
            "Epoch 15/100\n",
            "1/1 [==============================] - 0s 6ms/step - loss: 9.4919 - mae: 9.4919\n",
            "Epoch 16/100\n",
            "1/1 [==============================] - 0s 5ms/step - loss: 9.3594 - mae: 9.3594\n",
            "Epoch 17/100\n",
            "1/1 [==============================] - 0s 6ms/step - loss: 9.2269 - mae: 9.2269\n",
            "Epoch 18/100\n",
            "1/1 [==============================] - 0s 4ms/step - loss: 9.0944 - mae: 9.0944\n",
            "Epoch 19/100\n",
            "1/1 [==============================] - 0s 4ms/step - loss: 8.9619 - mae: 8.9619\n",
            "Epoch 20/100\n",
            "1/1 [==============================] - 0s 5ms/step - loss: 8.8294 - mae: 8.8294\n",
            "Epoch 21/100\n",
            "1/1 [==============================] - 0s 6ms/step - loss: 8.6969 - mae: 8.6969\n",
            "Epoch 22/100\n",
            "1/1 [==============================] - 0s 5ms/step - loss: 8.5644 - mae: 8.5644\n",
            "Epoch 23/100\n",
            "1/1 [==============================] - 0s 5ms/step - loss: 8.4319 - mae: 8.4319\n",
            "Epoch 24/100\n",
            "1/1 [==============================] - 0s 6ms/step - loss: 8.2994 - mae: 8.2994\n",
            "Epoch 25/100\n",
            "1/1 [==============================] - 0s 6ms/step - loss: 8.1669 - mae: 8.1669\n",
            "Epoch 26/100\n",
            "1/1 [==============================] - 0s 5ms/step - loss: 8.0344 - mae: 8.0344\n",
            "Epoch 27/100\n",
            "1/1 [==============================] - 0s 6ms/step - loss: 7.9019 - mae: 7.9019\n",
            "Epoch 28/100\n",
            "1/1 [==============================] - 0s 5ms/step - loss: 7.7694 - mae: 7.7694\n",
            "Epoch 29/100\n",
            "1/1 [==============================] - 0s 6ms/step - loss: 7.6369 - mae: 7.6369\n",
            "Epoch 30/100\n",
            "1/1 [==============================] - 0s 7ms/step - loss: 7.5044 - mae: 7.5044\n",
            "Epoch 31/100\n",
            "1/1 [==============================] - 0s 6ms/step - loss: 7.3719 - mae: 7.3719\n",
            "Epoch 32/100\n",
            "1/1 [==============================] - 0s 5ms/step - loss: 7.2394 - mae: 7.2394\n",
            "Epoch 33/100\n",
            "1/1 [==============================] - 0s 5ms/step - loss: 7.1350 - mae: 7.1350\n",
            "Epoch 34/100\n",
            "1/1 [==============================] - 0s 5ms/step - loss: 7.1294 - mae: 7.1294\n",
            "Epoch 35/100\n",
            "1/1 [==============================] - 0s 5ms/step - loss: 7.1237 - mae: 7.1237\n",
            "Epoch 36/100\n",
            "1/1 [==============================] - 0s 6ms/step - loss: 7.1181 - mae: 7.1181\n",
            "Epoch 37/100\n",
            "1/1 [==============================] - 0s 6ms/step - loss: 7.1125 - mae: 7.1125\n",
            "Epoch 38/100\n",
            "1/1 [==============================] - 0s 5ms/step - loss: 7.1069 - mae: 7.1069\n",
            "Epoch 39/100\n",
            "1/1 [==============================] - 0s 5ms/step - loss: 7.1013 - mae: 7.1013\n",
            "Epoch 40/100\n",
            "1/1 [==============================] - 0s 6ms/step - loss: 7.0956 - mae: 7.0956\n",
            "Epoch 41/100\n",
            "1/1 [==============================] - 0s 5ms/step - loss: 7.0900 - mae: 7.0900\n",
            "Epoch 42/100\n",
            "1/1 [==============================] - 0s 5ms/step - loss: 7.0844 - mae: 7.0844\n",
            "Epoch 43/100\n",
            "1/1 [==============================] - 0s 5ms/step - loss: 7.0787 - mae: 7.0787\n",
            "Epoch 44/100\n",
            "1/1 [==============================] - 0s 6ms/step - loss: 7.0731 - mae: 7.0731\n",
            "Epoch 45/100\n",
            "1/1 [==============================] - 0s 6ms/step - loss: 7.0675 - mae: 7.0675\n",
            "Epoch 46/100\n",
            "1/1 [==============================] - 0s 7ms/step - loss: 7.0619 - mae: 7.0619\n",
            "Epoch 47/100\n",
            "1/1 [==============================] - 0s 7ms/step - loss: 7.0562 - mae: 7.0562\n",
            "Epoch 48/100\n",
            "1/1 [==============================] - 0s 5ms/step - loss: 7.0506 - mae: 7.0506\n",
            "Epoch 49/100\n",
            "1/1 [==============================] - 0s 7ms/step - loss: 7.0450 - mae: 7.0450\n",
            "Epoch 50/100\n",
            "1/1 [==============================] - 0s 9ms/step - loss: 7.0394 - mae: 7.0394\n",
            "Epoch 51/100\n",
            "1/1 [==============================] - 0s 5ms/step - loss: 7.0337 - mae: 7.0337\n",
            "Epoch 52/100\n",
            "1/1 [==============================] - 0s 11ms/step - loss: 7.0281 - mae: 7.0281\n",
            "Epoch 53/100\n",
            "1/1 [==============================] - 0s 4ms/step - loss: 7.0225 - mae: 7.0225\n",
            "Epoch 54/100\n",
            "1/1 [==============================] - 0s 8ms/step - loss: 7.0169 - mae: 7.0169\n",
            "Epoch 55/100\n",
            "1/1 [==============================] - 0s 6ms/step - loss: 7.0113 - mae: 7.0113\n",
            "Epoch 56/100\n",
            "1/1 [==============================] - 0s 5ms/step - loss: 7.0056 - mae: 7.0056\n",
            "Epoch 57/100\n",
            "1/1 [==============================] - 0s 7ms/step - loss: 7.0000 - mae: 7.0000\n",
            "Epoch 58/100\n",
            "1/1 [==============================] - 0s 7ms/step - loss: 6.9944 - mae: 6.9944\n",
            "Epoch 59/100\n",
            "1/1 [==============================] - 0s 6ms/step - loss: 6.9887 - mae: 6.9887\n",
            "Epoch 60/100\n",
            "1/1 [==============================] - 0s 5ms/step - loss: 6.9831 - mae: 6.9831\n",
            "Epoch 61/100\n",
            "1/1 [==============================] - 0s 4ms/step - loss: 6.9775 - mae: 6.9775\n",
            "Epoch 62/100\n",
            "1/1 [==============================] - 0s 6ms/step - loss: 6.9719 - mae: 6.9719\n",
            "Epoch 63/100\n",
            "1/1 [==============================] - 0s 7ms/step - loss: 6.9662 - mae: 6.9662\n",
            "Epoch 64/100\n",
            "1/1 [==============================] - 0s 6ms/step - loss: 6.9606 - mae: 6.9606\n",
            "Epoch 65/100\n",
            "1/1 [==============================] - 0s 8ms/step - loss: 6.9550 - mae: 6.9550\n",
            "Epoch 66/100\n",
            "1/1 [==============================] - 0s 8ms/step - loss: 6.9494 - mae: 6.9494\n",
            "Epoch 67/100\n",
            "1/1 [==============================] - 0s 7ms/step - loss: 6.9437 - mae: 6.9437\n",
            "Epoch 68/100\n",
            "1/1 [==============================] - 0s 6ms/step - loss: 6.9381 - mae: 6.9381\n",
            "Epoch 69/100\n",
            "1/1 [==============================] - 0s 6ms/step - loss: 6.9325 - mae: 6.9325\n",
            "Epoch 70/100\n",
            "1/1 [==============================] - 0s 8ms/step - loss: 6.9269 - mae: 6.9269\n",
            "Epoch 71/100\n",
            "1/1 [==============================] - 0s 5ms/step - loss: 6.9212 - mae: 6.9212\n",
            "Epoch 72/100\n",
            "1/1 [==============================] - 0s 10ms/step - loss: 6.9156 - mae: 6.9156\n",
            "Epoch 73/100\n",
            "1/1 [==============================] - 0s 5ms/step - loss: 6.9100 - mae: 6.9100\n",
            "Epoch 74/100\n",
            "1/1 [==============================] - 0s 4ms/step - loss: 6.9044 - mae: 6.9044\n",
            "Epoch 75/100\n",
            "1/1 [==============================] - 0s 7ms/step - loss: 6.8988 - mae: 6.8988\n",
            "Epoch 76/100\n",
            "1/1 [==============================] - 0s 5ms/step - loss: 6.8931 - mae: 6.8931\n",
            "Epoch 77/100\n",
            "1/1 [==============================] - 0s 6ms/step - loss: 6.8875 - mae: 6.8875\n",
            "Epoch 78/100\n",
            "1/1 [==============================] - 0s 7ms/step - loss: 6.8819 - mae: 6.8819\n",
            "Epoch 79/100\n",
            "1/1 [==============================] - 0s 6ms/step - loss: 6.8763 - mae: 6.8763\n",
            "Epoch 80/100\n",
            "1/1 [==============================] - 0s 6ms/step - loss: 6.8706 - mae: 6.8706\n",
            "Epoch 81/100\n",
            "1/1 [==============================] - 0s 6ms/step - loss: 6.8650 - mae: 6.8650\n",
            "Epoch 82/100\n",
            "1/1 [==============================] - 0s 6ms/step - loss: 6.8594 - mae: 6.8594\n",
            "Epoch 83/100\n",
            "1/1 [==============================] - 0s 5ms/step - loss: 6.8537 - mae: 6.8537\n",
            "Epoch 84/100\n",
            "1/1 [==============================] - 0s 5ms/step - loss: 6.8481 - mae: 6.8481\n",
            "Epoch 85/100\n",
            "1/1 [==============================] - 0s 6ms/step - loss: 6.8425 - mae: 6.8425\n",
            "Epoch 86/100\n",
            "1/1 [==============================] - 0s 4ms/step - loss: 6.8369 - mae: 6.8369\n",
            "Epoch 87/100\n",
            "1/1 [==============================] - 0s 6ms/step - loss: 6.8313 - mae: 6.8313\n",
            "Epoch 88/100\n",
            "1/1 [==============================] - 0s 20ms/step - loss: 6.8256 - mae: 6.8256\n",
            "Epoch 89/100\n",
            "1/1 [==============================] - 0s 5ms/step - loss: 6.8200 - mae: 6.8200\n",
            "Epoch 90/100\n",
            "1/1 [==============================] - 0s 5ms/step - loss: 6.8144 - mae: 6.8144\n",
            "Epoch 91/100\n",
            "1/1 [==============================] - 0s 6ms/step - loss: 6.8088 - mae: 6.8088\n",
            "Epoch 92/100\n",
            "1/1 [==============================] - 0s 12ms/step - loss: 6.8031 - mae: 6.8031\n",
            "Epoch 93/100\n",
            "1/1 [==============================] - 0s 7ms/step - loss: 6.7975 - mae: 6.7975\n",
            "Epoch 94/100\n",
            "1/1 [==============================] - 0s 14ms/step - loss: 6.7919 - mae: 6.7919\n",
            "Epoch 95/100\n",
            "1/1 [==============================] - 0s 9ms/step - loss: 6.7863 - mae: 6.7863\n",
            "Epoch 96/100\n",
            "1/1 [==============================] - 0s 5ms/step - loss: 6.7806 - mae: 6.7806\n",
            "Epoch 97/100\n",
            "1/1 [==============================] - 0s 6ms/step - loss: 6.7750 - mae: 6.7750\n",
            "Epoch 98/100\n",
            "1/1 [==============================] - 0s 5ms/step - loss: 6.7694 - mae: 6.7694\n",
            "Epoch 99/100\n",
            "1/1 [==============================] - 0s 5ms/step - loss: 6.7638 - mae: 6.7638\n",
            "Epoch 100/100\n",
            "1/1 [==============================] - 0s 4ms/step - loss: 6.7581 - mae: 6.7581\n"
          ],
          "name": "stdout"
        },
        {
          "output_type": "execute_result",
          "data": {
            "text/plain": [
              "<tensorflow.python.keras.callbacks.History at 0x7ff0f4c87410>"
            ]
          },
          "metadata": {
            "tags": []
          },
          "execution_count": 11
        }
      ]
    },
    {
      "cell_type": "code",
      "metadata": {
        "colab": {
          "base_uri": "https://localhost:8080/"
        },
        "id": "WP7aLbu-Rsk6",
        "outputId": "5f8bffdb-e7bf-401f-d0bc-610282a27904"
      },
      "source": [
        "model.predict([17.0])"
      ],
      "execution_count": 12,
      "outputs": [
        {
          "output_type": "execute_result",
          "data": {
            "text/plain": [
              "array([[30.934855]], dtype=float32)"
            ]
          },
          "metadata": {
            "tags": []
          },
          "execution_count": 12
        }
      ]
    },
    {
      "cell_type": "code",
      "metadata": {
        "colab": {
          "base_uri": "https://localhost:8080/"
        },
        "id": "emc4mQ2AR53l",
        "outputId": "ef0960b6-d69e-4ce8-a3ae-441e8af9f293"
      },
      "source": [
        "# recreating again with Adam optimizer\n",
        "model = tf.keras.Sequential([\n",
        "  tf.keras.layers.Dense(1)\n",
        "])\n",
        "\n",
        "model.compile(loss = tf.keras.losses.mae,\n",
        "              optimizer = tf.keras.optimizers.Adam(learning_rate = 0.001),\n",
        "              metrics = [\"mae\"]\n",
        "              )\n",
        "model.fit(X, y, epochs = 100)"
      ],
      "execution_count": 14,
      "outputs": [
        {
          "output_type": "stream",
          "text": [
            "Epoch 1/100\n",
            "1/1 [==============================] - 0s 309ms/step - loss: 10.6986 - mae: 10.6986\n",
            "Epoch 2/100\n",
            "1/1 [==============================] - 0s 6ms/step - loss: 10.6941 - mae: 10.6941\n",
            "Epoch 3/100\n",
            "1/1 [==============================] - 0s 6ms/step - loss: 10.6896 - mae: 10.6896\n",
            "Epoch 4/100\n",
            "1/1 [==============================] - 0s 9ms/step - loss: 10.6851 - mae: 10.6851\n",
            "Epoch 5/100\n",
            "1/1 [==============================] - 0s 6ms/step - loss: 10.6806 - mae: 10.6806\n",
            "Epoch 6/100\n",
            "1/1 [==============================] - 0s 4ms/step - loss: 10.6761 - mae: 10.6761\n",
            "Epoch 7/100\n",
            "1/1 [==============================] - 0s 4ms/step - loss: 10.6716 - mae: 10.6716\n",
            "Epoch 8/100\n",
            "1/1 [==============================] - 0s 4ms/step - loss: 10.6671 - mae: 10.6671\n",
            "Epoch 9/100\n",
            "1/1 [==============================] - 0s 8ms/step - loss: 10.6626 - mae: 10.6626\n",
            "Epoch 10/100\n",
            "1/1 [==============================] - 0s 8ms/step - loss: 10.6581 - mae: 10.6581\n",
            "Epoch 11/100\n",
            "1/1 [==============================] - 0s 7ms/step - loss: 10.6536 - mae: 10.6536\n",
            "Epoch 12/100\n",
            "1/1 [==============================] - 0s 5ms/step - loss: 10.6491 - mae: 10.6491\n",
            "Epoch 13/100\n",
            "1/1 [==============================] - 0s 9ms/step - loss: 10.6446 - mae: 10.6446\n",
            "Epoch 14/100\n",
            "1/1 [==============================] - 0s 5ms/step - loss: 10.6401 - mae: 10.6401\n",
            "Epoch 15/100\n",
            "1/1 [==============================] - 0s 8ms/step - loss: 10.6356 - mae: 10.6356\n",
            "Epoch 16/100\n",
            "1/1 [==============================] - 0s 11ms/step - loss: 10.6311 - mae: 10.6311\n",
            "Epoch 17/100\n",
            "1/1 [==============================] - 0s 5ms/step - loss: 10.6266 - mae: 10.6266\n",
            "Epoch 18/100\n",
            "1/1 [==============================] - 0s 7ms/step - loss: 10.6221 - mae: 10.6221\n",
            "Epoch 19/100\n",
            "1/1 [==============================] - 0s 11ms/step - loss: 10.6176 - mae: 10.6176\n",
            "Epoch 20/100\n",
            "1/1 [==============================] - 0s 5ms/step - loss: 10.6131 - mae: 10.6131\n",
            "Epoch 21/100\n",
            "1/1 [==============================] - 0s 5ms/step - loss: 10.6086 - mae: 10.6086\n",
            "Epoch 22/100\n",
            "1/1 [==============================] - 0s 5ms/step - loss: 10.6041 - mae: 10.6041\n",
            "Epoch 23/100\n",
            "1/1 [==============================] - 0s 5ms/step - loss: 10.5996 - mae: 10.5996\n",
            "Epoch 24/100\n",
            "1/1 [==============================] - 0s 5ms/step - loss: 10.5951 - mae: 10.5951\n",
            "Epoch 25/100\n",
            "1/1 [==============================] - 0s 7ms/step - loss: 10.5906 - mae: 10.5906\n",
            "Epoch 26/100\n",
            "1/1 [==============================] - 0s 5ms/step - loss: 10.5861 - mae: 10.5861\n",
            "Epoch 27/100\n",
            "1/1 [==============================] - 0s 6ms/step - loss: 10.5816 - mae: 10.5816\n",
            "Epoch 28/100\n",
            "1/1 [==============================] - 0s 7ms/step - loss: 10.5771 - mae: 10.5771\n",
            "Epoch 29/100\n",
            "1/1 [==============================] - 0s 4ms/step - loss: 10.5726 - mae: 10.5726\n",
            "Epoch 30/100\n",
            "1/1 [==============================] - 0s 6ms/step - loss: 10.5681 - mae: 10.5681\n",
            "Epoch 31/100\n",
            "1/1 [==============================] - 0s 6ms/step - loss: 10.5636 - mae: 10.5636\n",
            "Epoch 32/100\n",
            "1/1 [==============================] - 0s 7ms/step - loss: 10.5591 - mae: 10.5591\n",
            "Epoch 33/100\n",
            "1/1 [==============================] - 0s 8ms/step - loss: 10.5546 - mae: 10.5546\n",
            "Epoch 34/100\n",
            "1/1 [==============================] - 0s 6ms/step - loss: 10.5501 - mae: 10.5501\n",
            "Epoch 35/100\n",
            "1/1 [==============================] - 0s 7ms/step - loss: 10.5456 - mae: 10.5456\n",
            "Epoch 36/100\n",
            "1/1 [==============================] - 0s 4ms/step - loss: 10.5411 - mae: 10.5411\n",
            "Epoch 37/100\n",
            "1/1 [==============================] - 0s 7ms/step - loss: 10.5366 - mae: 10.5366\n",
            "Epoch 38/100\n",
            "1/1 [==============================] - 0s 4ms/step - loss: 10.5321 - mae: 10.5321\n",
            "Epoch 39/100\n",
            "1/1 [==============================] - 0s 7ms/step - loss: 10.5276 - mae: 10.5276\n",
            "Epoch 40/100\n",
            "1/1 [==============================] - 0s 5ms/step - loss: 10.5231 - mae: 10.5231\n",
            "Epoch 41/100\n",
            "1/1 [==============================] - 0s 7ms/step - loss: 10.5186 - mae: 10.5186\n",
            "Epoch 42/100\n",
            "1/1 [==============================] - 0s 7ms/step - loss: 10.5141 - mae: 10.5141\n",
            "Epoch 43/100\n",
            "1/1 [==============================] - 0s 9ms/step - loss: 10.5096 - mae: 10.5096\n",
            "Epoch 44/100\n",
            "1/1 [==============================] - 0s 5ms/step - loss: 10.5051 - mae: 10.5051\n",
            "Epoch 45/100\n",
            "1/1 [==============================] - 0s 13ms/step - loss: 10.5006 - mae: 10.5006\n",
            "Epoch 46/100\n",
            "1/1 [==============================] - 0s 6ms/step - loss: 10.4961 - mae: 10.4961\n",
            "Epoch 47/100\n",
            "1/1 [==============================] - 0s 6ms/step - loss: 10.4916 - mae: 10.4916\n",
            "Epoch 48/100\n",
            "1/1 [==============================] - 0s 11ms/step - loss: 10.4871 - mae: 10.4871\n",
            "Epoch 49/100\n",
            "1/1 [==============================] - 0s 5ms/step - loss: 10.4826 - mae: 10.4826\n",
            "Epoch 50/100\n",
            "1/1 [==============================] - 0s 9ms/step - loss: 10.4781 - mae: 10.4781\n",
            "Epoch 51/100\n",
            "1/1 [==============================] - 0s 9ms/step - loss: 10.4736 - mae: 10.4736\n",
            "Epoch 52/100\n",
            "1/1 [==============================] - 0s 6ms/step - loss: 10.4691 - mae: 10.4691\n",
            "Epoch 53/100\n",
            "1/1 [==============================] - 0s 11ms/step - loss: 10.4646 - mae: 10.4646\n",
            "Epoch 54/100\n",
            "1/1 [==============================] - 0s 10ms/step - loss: 10.4601 - mae: 10.4601\n",
            "Epoch 55/100\n",
            "1/1 [==============================] - 0s 4ms/step - loss: 10.4556 - mae: 10.4556\n",
            "Epoch 56/100\n",
            "1/1 [==============================] - 0s 10ms/step - loss: 10.4511 - mae: 10.4511\n",
            "Epoch 57/100\n",
            "1/1 [==============================] - 0s 4ms/step - loss: 10.4466 - mae: 10.4466\n",
            "Epoch 58/100\n",
            "1/1 [==============================] - 0s 7ms/step - loss: 10.4421 - mae: 10.4421\n",
            "Epoch 59/100\n",
            "1/1 [==============================] - 0s 4ms/step - loss: 10.4376 - mae: 10.4376\n",
            "Epoch 60/100\n",
            "1/1 [==============================] - 0s 7ms/step - loss: 10.4331 - mae: 10.4331\n",
            "Epoch 61/100\n",
            "1/1 [==============================] - 0s 7ms/step - loss: 10.4286 - mae: 10.4286\n",
            "Epoch 62/100\n",
            "1/1 [==============================] - 0s 4ms/step - loss: 10.4241 - mae: 10.4241\n",
            "Epoch 63/100\n",
            "1/1 [==============================] - 0s 4ms/step - loss: 10.4196 - mae: 10.4196\n",
            "Epoch 64/100\n",
            "1/1 [==============================] - 0s 4ms/step - loss: 10.4151 - mae: 10.4151\n",
            "Epoch 65/100\n",
            "1/1 [==============================] - 0s 4ms/step - loss: 10.4106 - mae: 10.4106\n",
            "Epoch 66/100\n",
            "1/1 [==============================] - 0s 6ms/step - loss: 10.4061 - mae: 10.4061\n",
            "Epoch 67/100\n",
            "1/1 [==============================] - 0s 4ms/step - loss: 10.4016 - mae: 10.4016\n",
            "Epoch 68/100\n",
            "1/1 [==============================] - 0s 6ms/step - loss: 10.3971 - mae: 10.3971\n",
            "Epoch 69/100\n",
            "1/1 [==============================] - 0s 7ms/step - loss: 10.3926 - mae: 10.3926\n",
            "Epoch 70/100\n",
            "1/1 [==============================] - 0s 7ms/step - loss: 10.3881 - mae: 10.3881\n",
            "Epoch 71/100\n",
            "1/1 [==============================] - 0s 5ms/step - loss: 10.3836 - mae: 10.3836\n",
            "Epoch 72/100\n",
            "1/1 [==============================] - 0s 6ms/step - loss: 10.3791 - mae: 10.3791\n",
            "Epoch 73/100\n",
            "1/1 [==============================] - 0s 7ms/step - loss: 10.3746 - mae: 10.3746\n",
            "Epoch 74/100\n",
            "1/1 [==============================] - 0s 6ms/step - loss: 10.3701 - mae: 10.3701\n",
            "Epoch 75/100\n",
            "1/1 [==============================] - 0s 6ms/step - loss: 10.3656 - mae: 10.3656\n",
            "Epoch 76/100\n",
            "1/1 [==============================] - 0s 8ms/step - loss: 10.3611 - mae: 10.3611\n",
            "Epoch 77/100\n",
            "1/1 [==============================] - 0s 5ms/step - loss: 10.3566 - mae: 10.3566\n",
            "Epoch 78/100\n",
            "1/1 [==============================] - 0s 5ms/step - loss: 10.3521 - mae: 10.3521\n",
            "Epoch 79/100\n",
            "1/1 [==============================] - 0s 7ms/step - loss: 10.3476 - mae: 10.3476\n",
            "Epoch 80/100\n",
            "1/1 [==============================] - 0s 8ms/step - loss: 10.3431 - mae: 10.3431\n",
            "Epoch 81/100\n",
            "1/1 [==============================] - 0s 7ms/step - loss: 10.3386 - mae: 10.3386\n",
            "Epoch 82/100\n",
            "1/1 [==============================] - 0s 4ms/step - loss: 10.3341 - mae: 10.3341\n",
            "Epoch 83/100\n",
            "1/1 [==============================] - 0s 6ms/step - loss: 10.3296 - mae: 10.3296\n",
            "Epoch 84/100\n",
            "1/1 [==============================] - 0s 5ms/step - loss: 10.3251 - mae: 10.3251\n",
            "Epoch 85/100\n",
            "1/1 [==============================] - 0s 12ms/step - loss: 10.3206 - mae: 10.3206\n",
            "Epoch 86/100\n",
            "1/1 [==============================] - 0s 7ms/step - loss: 10.3161 - mae: 10.3161\n",
            "Epoch 87/100\n",
            "1/1 [==============================] - 0s 6ms/step - loss: 10.3116 - mae: 10.3116\n",
            "Epoch 88/100\n",
            "1/1 [==============================] - 0s 6ms/step - loss: 10.3071 - mae: 10.3071\n",
            "Epoch 89/100\n",
            "1/1 [==============================] - 0s 5ms/step - loss: 10.3026 - mae: 10.3026\n",
            "Epoch 90/100\n",
            "1/1 [==============================] - 0s 5ms/step - loss: 10.2981 - mae: 10.2981\n",
            "Epoch 91/100\n",
            "1/1 [==============================] - 0s 8ms/step - loss: 10.2936 - mae: 10.2936\n",
            "Epoch 92/100\n",
            "1/1 [==============================] - 0s 5ms/step - loss: 10.2891 - mae: 10.2891\n",
            "Epoch 93/100\n",
            "1/1 [==============================] - 0s 11ms/step - loss: 10.2846 - mae: 10.2846\n",
            "Epoch 94/100\n",
            "1/1 [==============================] - 0s 9ms/step - loss: 10.2801 - mae: 10.2801\n",
            "Epoch 95/100\n",
            "1/1 [==============================] - 0s 16ms/step - loss: 10.2756 - mae: 10.2756\n",
            "Epoch 96/100\n",
            "1/1 [==============================] - 0s 7ms/step - loss: 10.2711 - mae: 10.2711\n",
            "Epoch 97/100\n",
            "1/1 [==============================] - 0s 6ms/step - loss: 10.2666 - mae: 10.2666\n",
            "Epoch 98/100\n",
            "1/1 [==============================] - 0s 6ms/step - loss: 10.2621 - mae: 10.2621\n",
            "Epoch 99/100\n",
            "1/1 [==============================] - 0s 5ms/step - loss: 10.2576 - mae: 10.2576\n",
            "Epoch 100/100\n",
            "1/1 [==============================] - 0s 10ms/step - loss: 10.2531 - mae: 10.2531\n"
          ],
          "name": "stdout"
        },
        {
          "output_type": "execute_result",
          "data": {
            "text/plain": [
              "<tensorflow.python.keras.callbacks.History at 0x7ff0f3b0e290>"
            ]
          },
          "metadata": {
            "tags": []
          },
          "execution_count": 14
        }
      ]
    },
    {
      "cell_type": "code",
      "metadata": {
        "colab": {
          "base_uri": "https://localhost:8080/"
        },
        "id": "2bb2c9T2SplM",
        "outputId": "3849a522-1632-48e7-e8e5-08f9645efdbd"
      },
      "source": [
        "model.predict([17.0])"
      ],
      "execution_count": 15,
      "outputs": [
        {
          "output_type": "execute_result",
          "data": {
            "text/plain": [
              "array([[16.014063]], dtype=float32)"
            ]
          },
          "metadata": {
            "tags": []
          },
          "execution_count": 15
        }
      ]
    },
    {
      "cell_type": "code",
      "metadata": {
        "colab": {
          "base_uri": "https://localhost:8080/"
        },
        "id": "hbIV2qlfS1eD",
        "outputId": "997c0d05-b8c2-4e30-f493-dfb46d3e4168"
      },
      "source": [
        "# again with adding more neurons\n",
        "model = tf.keras.Sequential([\n",
        "    tf.keras.layers.Dense(100, activation = \"relu\"),\n",
        "    tf.keras.layers.Dense(1)\n",
        "])\n",
        "\n",
        "model.compile(loss = tf.keras.losses.mae,\n",
        "              optimizer = tf.keras.optimizers.SGD(),\n",
        "              metrics = [\"mae\"]\n",
        "              )\n",
        "model.fit(X, y, epochs = 100)"
      ],
      "execution_count": 17,
      "outputs": [
        {
          "output_type": "stream",
          "text": [
            "Epoch 1/100\n",
            "1/1 [==============================] - 0s 305ms/step - loss: 12.8589 - mae: 12.8589\n",
            "Epoch 2/100\n",
            "1/1 [==============================] - 0s 6ms/step - loss: 12.3338 - mae: 12.3338\n",
            "Epoch 3/100\n",
            "1/1 [==============================] - 0s 6ms/step - loss: 11.8111 - mae: 11.8111\n",
            "Epoch 4/100\n",
            "1/1 [==============================] - 0s 9ms/step - loss: 11.2865 - mae: 11.2865\n",
            "Epoch 5/100\n",
            "1/1 [==============================] - 0s 7ms/step - loss: 10.7368 - mae: 10.7368\n",
            "Epoch 6/100\n",
            "1/1 [==============================] - 0s 6ms/step - loss: 10.1638 - mae: 10.1638\n",
            "Epoch 7/100\n",
            "1/1 [==============================] - 0s 13ms/step - loss: 9.5649 - mae: 9.5649\n",
            "Epoch 8/100\n",
            "1/1 [==============================] - 0s 9ms/step - loss: 8.9350 - mae: 8.9350\n",
            "Epoch 9/100\n",
            "1/1 [==============================] - 0s 6ms/step - loss: 8.2714 - mae: 8.2714\n",
            "Epoch 10/100\n",
            "1/1 [==============================] - 0s 5ms/step - loss: 7.5663 - mae: 7.5663\n",
            "Epoch 11/100\n",
            "1/1 [==============================] - 0s 8ms/step - loss: 6.8046 - mae: 6.8046\n",
            "Epoch 12/100\n",
            "1/1 [==============================] - 0s 6ms/step - loss: 5.9837 - mae: 5.9837\n",
            "Epoch 13/100\n",
            "1/1 [==============================] - 0s 7ms/step - loss: 5.0972 - mae: 5.0972\n",
            "Epoch 14/100\n",
            "1/1 [==============================] - 0s 8ms/step - loss: 4.1415 - mae: 4.1415\n",
            "Epoch 15/100\n",
            "1/1 [==============================] - 0s 4ms/step - loss: 3.8402 - mae: 3.8402\n",
            "Epoch 16/100\n",
            "1/1 [==============================] - 0s 5ms/step - loss: 3.7764 - mae: 3.7764\n",
            "Epoch 17/100\n",
            "1/1 [==============================] - 0s 5ms/step - loss: 3.8502 - mae: 3.8502\n",
            "Epoch 18/100\n",
            "1/1 [==============================] - 0s 6ms/step - loss: 3.7878 - mae: 3.7878\n",
            "Epoch 19/100\n",
            "1/1 [==============================] - 0s 6ms/step - loss: 3.8310 - mae: 3.8310\n",
            "Epoch 20/100\n",
            "1/1 [==============================] - 0s 5ms/step - loss: 3.7945 - mae: 3.7945\n",
            "Epoch 21/100\n",
            "1/1 [==============================] - 0s 9ms/step - loss: 3.8060 - mae: 3.8060\n",
            "Epoch 22/100\n",
            "1/1 [==============================] - 0s 6ms/step - loss: 3.8015 - mae: 3.8015\n",
            "Epoch 23/100\n",
            "1/1 [==============================] - 0s 9ms/step - loss: 3.7808 - mae: 3.7808\n",
            "Epoch 24/100\n",
            "1/1 [==============================] - 0s 6ms/step - loss: 3.8085 - mae: 3.8085\n",
            "Epoch 25/100\n",
            "1/1 [==============================] - 0s 7ms/step - loss: 3.7573 - mae: 3.7573\n",
            "Epoch 26/100\n",
            "1/1 [==============================] - 0s 7ms/step - loss: 3.8232 - mae: 3.8232\n",
            "Epoch 27/100\n",
            "1/1 [==============================] - 0s 6ms/step - loss: 3.7567 - mae: 3.7567\n",
            "Epoch 28/100\n",
            "1/1 [==============================] - 0s 7ms/step - loss: 3.8096 - mae: 3.8096\n",
            "Epoch 29/100\n",
            "1/1 [==============================] - 0s 7ms/step - loss: 3.7638 - mae: 3.7638\n",
            "Epoch 30/100\n",
            "1/1 [==============================] - 0s 5ms/step - loss: 3.7843 - mae: 3.7843\n",
            "Epoch 31/100\n",
            "1/1 [==============================] - 0s 7ms/step - loss: 3.7709 - mae: 3.7709\n",
            "Epoch 32/100\n",
            "1/1 [==============================] - 0s 10ms/step - loss: 3.7589 - mae: 3.7589\n",
            "Epoch 33/100\n",
            "1/1 [==============================] - 0s 7ms/step - loss: 3.7781 - mae: 3.7781\n",
            "Epoch 34/100\n",
            "1/1 [==============================] - 0s 5ms/step - loss: 3.7403 - mae: 3.7403\n",
            "Epoch 35/100\n",
            "1/1 [==============================] - 0s 8ms/step - loss: 3.7930 - mae: 3.7930\n",
            "Epoch 36/100\n",
            "1/1 [==============================] - 0s 5ms/step - loss: 3.7270 - mae: 3.7270\n",
            "Epoch 37/100\n",
            "1/1 [==============================] - 0s 6ms/step - loss: 3.7870 - mae: 3.7870\n",
            "Epoch 38/100\n",
            "1/1 [==============================] - 0s 6ms/step - loss: 3.7342 - mae: 3.7342\n",
            "Epoch 39/100\n",
            "1/1 [==============================] - 0s 7ms/step - loss: 3.7614 - mae: 3.7614\n",
            "Epoch 40/100\n",
            "1/1 [==============================] - 0s 5ms/step - loss: 3.7415 - mae: 3.7415\n",
            "Epoch 41/100\n",
            "1/1 [==============================] - 0s 8ms/step - loss: 3.7358 - mae: 3.7358\n",
            "Epoch 42/100\n",
            "1/1 [==============================] - 0s 7ms/step - loss: 3.7533 - mae: 3.7533\n",
            "Epoch 43/100\n",
            "1/1 [==============================] - 0s 7ms/step - loss: 3.7168 - mae: 3.7168\n",
            "Epoch 44/100\n",
            "1/1 [==============================] - 0s 5ms/step - loss: 3.7640 - mae: 3.7640\n",
            "Epoch 45/100\n",
            "1/1 [==============================] - 0s 8ms/step - loss: 3.6983 - mae: 3.6983\n",
            "Epoch 46/100\n",
            "1/1 [==============================] - 0s 4ms/step - loss: 3.7631 - mae: 3.7631\n",
            "Epoch 47/100\n",
            "1/1 [==============================] - 0s 5ms/step - loss: 3.7057 - mae: 3.7057\n",
            "Epoch 48/100\n",
            "1/1 [==============================] - 0s 6ms/step - loss: 3.7373 - mae: 3.7373\n",
            "Epoch 49/100\n",
            "1/1 [==============================] - 0s 8ms/step - loss: 3.7133 - mae: 3.7133\n",
            "Epoch 50/100\n",
            "1/1 [==============================] - 0s 4ms/step - loss: 3.7136 - mae: 3.7136\n",
            "Epoch 51/100\n",
            "1/1 [==============================] - 0s 4ms/step - loss: 3.7284 - mae: 3.7284\n",
            "Epoch 52/100\n",
            "1/1 [==============================] - 0s 5ms/step - loss: 3.6921 - mae: 3.6921\n",
            "Epoch 53/100\n",
            "1/1 [==============================] - 0s 7ms/step - loss: 3.7361 - mae: 3.7361\n",
            "Epoch 54/100\n",
            "1/1 [==============================] - 0s 6ms/step - loss: 3.6708 - mae: 3.6708\n",
            "Epoch 55/100\n",
            "1/1 [==============================] - 0s 7ms/step - loss: 3.7380 - mae: 3.7380\n",
            "Epoch 56/100\n",
            "1/1 [==============================] - 0s 6ms/step - loss: 3.6784 - mae: 3.6784\n",
            "Epoch 57/100\n",
            "1/1 [==============================] - 0s 6ms/step - loss: 3.7119 - mae: 3.7119\n",
            "Epoch 58/100\n",
            "1/1 [==============================] - 0s 6ms/step - loss: 3.6861 - mae: 3.6861\n",
            "Epoch 59/100\n",
            "1/1 [==============================] - 0s 7ms/step - loss: 3.6925 - mae: 3.6925\n",
            "Epoch 60/100\n",
            "1/1 [==============================] - 0s 7ms/step - loss: 3.7015 - mae: 3.7015\n",
            "Epoch 61/100\n",
            "1/1 [==============================] - 0s 6ms/step - loss: 3.6661 - mae: 3.6661\n",
            "Epoch 62/100\n",
            "1/1 [==============================] - 0s 17ms/step - loss: 3.7093 - mae: 3.7093\n",
            "Epoch 63/100\n",
            "1/1 [==============================] - 0s 11ms/step - loss: 3.6443 - mae: 3.6443\n",
            "Epoch 64/100\n",
            "1/1 [==============================] - 0s 4ms/step - loss: 3.7116 - mae: 3.7116\n",
            "Epoch 65/100\n",
            "1/1 [==============================] - 0s 10ms/step - loss: 3.6522 - mae: 3.6522\n",
            "Epoch 66/100\n",
            "1/1 [==============================] - 0s 4ms/step - loss: 3.6852 - mae: 3.6852\n",
            "Epoch 67/100\n",
            "1/1 [==============================] - 0s 4ms/step - loss: 3.6640 - mae: 3.6640\n",
            "Epoch 68/100\n",
            "1/1 [==============================] - 0s 6ms/step - loss: 3.6655 - mae: 3.6655\n",
            "Epoch 69/100\n",
            "1/1 [==============================] - 0s 21ms/step - loss: 3.6755 - mae: 3.6755\n",
            "Epoch 70/100\n",
            "1/1 [==============================] - 0s 4ms/step - loss: 3.6388 - mae: 3.6388\n",
            "Epoch 71/100\n",
            "1/1 [==============================] - 0s 6ms/step - loss: 3.6836 - mae: 3.6836\n",
            "Epoch 72/100\n",
            "1/1 [==============================] - 0s 8ms/step - loss: 3.6189 - mae: 3.6189\n",
            "Epoch 73/100\n",
            "1/1 [==============================] - 0s 10ms/step - loss: 3.6839 - mae: 3.6839\n",
            "Epoch 74/100\n",
            "1/1 [==============================] - 0s 5ms/step - loss: 3.6270 - mae: 3.6270\n",
            "Epoch 75/100\n",
            "1/1 [==============================] - 0s 4ms/step - loss: 3.6588 - mae: 3.6588\n",
            "Epoch 76/100\n",
            "1/1 [==============================] - 0s 6ms/step - loss: 3.6425 - mae: 3.6425\n",
            "Epoch 77/100\n",
            "1/1 [==============================] - 0s 6ms/step - loss: 3.6371 - mae: 3.6371\n",
            "Epoch 78/100\n",
            "1/1 [==============================] - 0s 8ms/step - loss: 3.6507 - mae: 3.6507\n",
            "Epoch 79/100\n",
            "1/1 [==============================] - 0s 7ms/step - loss: 3.6101 - mae: 3.6101\n",
            "Epoch 80/100\n",
            "1/1 [==============================] - 0s 9ms/step - loss: 3.6590 - mae: 3.6590\n",
            "Epoch 81/100\n",
            "1/1 [==============================] - 0s 5ms/step - loss: 3.5946 - mae: 3.5946\n",
            "Epoch 82/100\n",
            "1/1 [==============================] - 0s 8ms/step - loss: 3.6548 - mae: 3.6548\n",
            "Epoch 83/100\n",
            "1/1 [==============================] - 0s 4ms/step - loss: 3.6028 - mae: 3.6028\n",
            "Epoch 84/100\n",
            "1/1 [==============================] - 0s 9ms/step - loss: 3.6337 - mae: 3.6337\n",
            "Epoch 85/100\n",
            "1/1 [==============================] - 0s 5ms/step - loss: 3.6185 - mae: 3.6185\n",
            "Epoch 86/100\n",
            "1/1 [==============================] - 0s 5ms/step - loss: 3.6075 - mae: 3.6075\n",
            "Epoch 87/100\n",
            "1/1 [==============================] - 0s 7ms/step - loss: 3.6269 - mae: 3.6269\n",
            "Epoch 88/100\n",
            "1/1 [==============================] - 0s 6ms/step - loss: 3.5801 - mae: 3.5801\n",
            "Epoch 89/100\n",
            "1/1 [==============================] - 0s 6ms/step - loss: 3.6354 - mae: 3.6354\n",
            "Epoch 90/100\n",
            "1/1 [==============================] - 0s 6ms/step - loss: 3.5712 - mae: 3.5712\n",
            "Epoch 91/100\n",
            "1/1 [==============================] - 0s 7ms/step - loss: 3.6245 - mae: 3.6245\n",
            "Epoch 92/100\n",
            "1/1 [==============================] - 0s 8ms/step - loss: 3.5822 - mae: 3.5822\n",
            "Epoch 93/100\n",
            "1/1 [==============================] - 0s 5ms/step - loss: 3.6040 - mae: 3.6040\n",
            "Epoch 94/100\n",
            "1/1 [==============================] - 0s 5ms/step - loss: 3.5955 - mae: 3.5955\n",
            "Epoch 95/100\n",
            "1/1 [==============================] - 0s 7ms/step - loss: 3.5765 - mae: 3.5765\n",
            "Epoch 96/100\n",
            "1/1 [==============================] - 0s 6ms/step - loss: 3.6041 - mae: 3.6041\n",
            "Epoch 97/100\n",
            "1/1 [==============================] - 0s 8ms/step - loss: 3.5488 - mae: 3.5488\n",
            "Epoch 98/100\n",
            "1/1 [==============================] - 0s 4ms/step - loss: 3.6128 - mae: 3.6128\n",
            "Epoch 99/100\n",
            "1/1 [==============================] - 0s 19ms/step - loss: 3.5488 - mae: 3.5488\n",
            "Epoch 100/100\n",
            "1/1 [==============================] - 0s 6ms/step - loss: 3.5929 - mae: 3.5929\n"
          ],
          "name": "stdout"
        },
        {
          "output_type": "execute_result",
          "data": {
            "text/plain": [
              "<tensorflow.python.keras.callbacks.History at 0x7ff0f1457e50>"
            ]
          },
          "metadata": {
            "tags": []
          },
          "execution_count": 17
        }
      ]
    },
    {
      "cell_type": "code",
      "metadata": {
        "colab": {
          "base_uri": "https://localhost:8080/"
        },
        "id": "3mx9COtbT74X",
        "outputId": "3935341c-f618-4fe6-88d8-479538f76b65"
      },
      "source": [
        "model.predict([17.0])"
      ],
      "execution_count": 19,
      "outputs": [
        {
          "output_type": "execute_result",
          "data": {
            "text/plain": [
              "array([[32.310215]], dtype=float32)"
            ]
          },
          "metadata": {
            "tags": []
          },
          "execution_count": 19
        }
      ]
    },
    {
      "cell_type": "code",
      "metadata": {
        "colab": {
          "base_uri": "https://localhost:8080/"
        },
        "id": "vSGE5Ra7UIc2",
        "outputId": "663fdc95-07f0-4a27-8565-98687f9c03f0"
      },
      "source": [
        "# again with adding more neurons\n",
        "model = tf.keras.Sequential([\n",
        "    tf.keras.layers.Dense(50, activation = None),\n",
        "    tf.keras.layers.Dense(1)\n",
        "])\n",
        "\n",
        "model.compile(loss = tf.keras.losses.mae,\n",
        "              optimizer = tf.keras.optimizers.Adam(learning_rate = 0.01),\n",
        "              metrics = [\"mae\"]\n",
        "              )\n",
        "model.fit(X, y, epochs = 100)"
      ],
      "execution_count": 20,
      "outputs": [
        {
          "output_type": "stream",
          "text": [
            "Epoch 1/100\n",
            "1/1 [==============================] - 0s 328ms/step - loss: 12.6669 - mae: 12.6669\n",
            "Epoch 2/100\n",
            "1/1 [==============================] - 0s 9ms/step - loss: 11.9732 - mae: 11.9732\n",
            "Epoch 3/100\n",
            "1/1 [==============================] - 0s 7ms/step - loss: 11.2779 - mae: 11.2779\n",
            "Epoch 4/100\n",
            "1/1 [==============================] - 0s 8ms/step - loss: 10.5797 - mae: 10.5797\n",
            "Epoch 5/100\n",
            "1/1 [==============================] - 0s 7ms/step - loss: 9.8761 - mae: 9.8761\n",
            "Epoch 6/100\n",
            "1/1 [==============================] - 0s 4ms/step - loss: 9.1641 - mae: 9.1641\n",
            "Epoch 7/100\n",
            "1/1 [==============================] - 0s 8ms/step - loss: 8.4406 - mae: 8.4406\n",
            "Epoch 8/100\n",
            "1/1 [==============================] - 0s 11ms/step - loss: 7.7025 - mae: 7.7025\n",
            "Epoch 9/100\n",
            "1/1 [==============================] - 0s 6ms/step - loss: 6.9467 - mae: 6.9467\n",
            "Epoch 10/100\n",
            "1/1 [==============================] - 0s 7ms/step - loss: 6.8326 - mae: 6.8326\n",
            "Epoch 11/100\n",
            "1/1 [==============================] - 0s 5ms/step - loss: 7.1604 - mae: 7.1604\n",
            "Epoch 12/100\n",
            "1/1 [==============================] - 0s 6ms/step - loss: 7.3705 - mae: 7.3705\n",
            "Epoch 13/100\n",
            "1/1 [==============================] - 0s 7ms/step - loss: 7.6149 - mae: 7.6149\n",
            "Epoch 14/100\n",
            "1/1 [==============================] - 0s 8ms/step - loss: 7.6275 - mae: 7.6275\n",
            "Epoch 15/100\n",
            "1/1 [==============================] - 0s 4ms/step - loss: 7.4649 - mae: 7.4649\n",
            "Epoch 16/100\n",
            "1/1 [==============================] - 0s 4ms/step - loss: 7.1717 - mae: 7.1717\n",
            "Epoch 17/100\n",
            "1/1 [==============================] - 0s 6ms/step - loss: 6.8968 - mae: 6.8968\n",
            "Epoch 18/100\n",
            "1/1 [==============================] - 0s 6ms/step - loss: 6.6344 - mae: 6.6344\n",
            "Epoch 19/100\n",
            "1/1 [==============================] - 0s 5ms/step - loss: 6.3597 - mae: 6.3597\n",
            "Epoch 20/100\n",
            "1/1 [==============================] - 0s 5ms/step - loss: 6.1431 - mae: 6.1431\n",
            "Epoch 21/100\n",
            "1/1 [==============================] - 0s 4ms/step - loss: 6.1440 - mae: 6.1440\n",
            "Epoch 22/100\n",
            "1/1 [==============================] - 0s 6ms/step - loss: 6.2576 - mae: 6.2576\n",
            "Epoch 23/100\n",
            "1/1 [==============================] - 0s 4ms/step - loss: 6.2686 - mae: 6.2686\n",
            "Epoch 24/100\n",
            "1/1 [==============================] - 0s 5ms/step - loss: 6.1908 - mae: 6.1908\n",
            "Epoch 25/100\n",
            "1/1 [==============================] - 0s 6ms/step - loss: 6.0342 - mae: 6.0342\n",
            "Epoch 26/100\n",
            "1/1 [==============================] - 0s 9ms/step - loss: 5.8063 - mae: 5.8063\n",
            "Epoch 27/100\n",
            "1/1 [==============================] - 0s 5ms/step - loss: 5.6543 - mae: 5.6543\n",
            "Epoch 28/100\n",
            "1/1 [==============================] - 0s 7ms/step - loss: 5.6060 - mae: 5.6060\n",
            "Epoch 29/100\n",
            "1/1 [==============================] - 0s 6ms/step - loss: 5.6168 - mae: 5.6168\n",
            "Epoch 30/100\n",
            "1/1 [==============================] - 0s 7ms/step - loss: 5.5852 - mae: 5.5852\n",
            "Epoch 31/100\n",
            "1/1 [==============================] - 0s 5ms/step - loss: 5.5144 - mae: 5.5144\n",
            "Epoch 32/100\n",
            "1/1 [==============================] - 0s 9ms/step - loss: 5.4076 - mae: 5.4076\n",
            "Epoch 33/100\n",
            "1/1 [==============================] - 0s 7ms/step - loss: 5.2678 - mae: 5.2678\n",
            "Epoch 34/100\n",
            "1/1 [==============================] - 0s 6ms/step - loss: 5.0978 - mae: 5.0978\n",
            "Epoch 35/100\n",
            "1/1 [==============================] - 0s 6ms/step - loss: 4.9520 - mae: 4.9520\n",
            "Epoch 36/100\n",
            "1/1 [==============================] - 0s 9ms/step - loss: 4.8666 - mae: 4.8666\n",
            "Epoch 37/100\n",
            "1/1 [==============================] - 0s 7ms/step - loss: 4.8822 - mae: 4.8822\n",
            "Epoch 38/100\n",
            "1/1 [==============================] - 0s 5ms/step - loss: 4.7963 - mae: 4.7963\n",
            "Epoch 39/100\n",
            "1/1 [==============================] - 0s 7ms/step - loss: 4.6092 - mae: 4.6092\n",
            "Epoch 40/100\n",
            "1/1 [==============================] - 0s 7ms/step - loss: 4.4083 - mae: 4.4083\n",
            "Epoch 41/100\n",
            "1/1 [==============================] - 0s 6ms/step - loss: 4.3259 - mae: 4.3259\n",
            "Epoch 42/100\n",
            "1/1 [==============================] - 0s 7ms/step - loss: 4.2583 - mae: 4.2583\n",
            "Epoch 43/100\n",
            "1/1 [==============================] - 0s 6ms/step - loss: 4.1437 - mae: 4.1437\n",
            "Epoch 44/100\n",
            "1/1 [==============================] - 0s 8ms/step - loss: 3.9843 - mae: 3.9843\n",
            "Epoch 45/100\n",
            "1/1 [==============================] - 0s 6ms/step - loss: 3.7823 - mae: 3.7823\n",
            "Epoch 46/100\n",
            "1/1 [==============================] - 0s 8ms/step - loss: 3.5893 - mae: 3.5893\n",
            "Epoch 47/100\n",
            "1/1 [==============================] - 0s 6ms/step - loss: 3.5530 - mae: 3.5530\n",
            "Epoch 48/100\n",
            "1/1 [==============================] - 0s 6ms/step - loss: 3.4042 - mae: 3.4042\n",
            "Epoch 49/100\n",
            "1/1 [==============================] - 0s 14ms/step - loss: 3.1288 - mae: 3.1288\n",
            "Epoch 50/100\n",
            "1/1 [==============================] - 0s 6ms/step - loss: 3.0100 - mae: 3.0100\n",
            "Epoch 51/100\n",
            "1/1 [==============================] - 0s 8ms/step - loss: 2.9128 - mae: 2.9128\n",
            "Epoch 52/100\n",
            "1/1 [==============================] - 0s 8ms/step - loss: 2.7558 - mae: 2.7558\n",
            "Epoch 53/100\n",
            "1/1 [==============================] - 0s 7ms/step - loss: 2.5414 - mae: 2.5414\n",
            "Epoch 54/100\n",
            "1/1 [==============================] - 0s 7ms/step - loss: 2.2720 - mae: 2.2720\n",
            "Epoch 55/100\n",
            "1/1 [==============================] - 0s 7ms/step - loss: 1.9696 - mae: 1.9696\n",
            "Epoch 56/100\n",
            "1/1 [==============================] - 0s 8ms/step - loss: 1.8544 - mae: 1.8544\n",
            "Epoch 57/100\n",
            "1/1 [==============================] - 0s 8ms/step - loss: 1.6088 - mae: 1.6088\n",
            "Epoch 58/100\n",
            "1/1 [==============================] - 0s 5ms/step - loss: 1.3106 - mae: 1.3106\n",
            "Epoch 59/100\n",
            "1/1 [==============================] - 0s 7ms/step - loss: 1.2784 - mae: 1.2784\n",
            "Epoch 60/100\n",
            "1/1 [==============================] - 0s 7ms/step - loss: 1.0728 - mae: 1.0728\n",
            "Epoch 61/100\n",
            "1/1 [==============================] - 0s 6ms/step - loss: 0.6697 - mae: 0.6697\n",
            "Epoch 62/100\n",
            "1/1 [==============================] - 0s 7ms/step - loss: 0.4824 - mae: 0.4824\n",
            "Epoch 63/100\n",
            "1/1 [==============================] - 0s 7ms/step - loss: 0.4156 - mae: 0.4156\n",
            "Epoch 64/100\n",
            "1/1 [==============================] - 0s 12ms/step - loss: 0.3613 - mae: 0.3613\n",
            "Epoch 65/100\n",
            "1/1 [==============================] - 0s 6ms/step - loss: 0.5655 - mae: 0.5655\n",
            "Epoch 66/100\n",
            "1/1 [==============================] - 0s 6ms/step - loss: 0.8919 - mae: 0.8919\n",
            "Epoch 67/100\n",
            "1/1 [==============================] - 0s 7ms/step - loss: 1.0320 - mae: 1.0320\n",
            "Epoch 68/100\n",
            "1/1 [==============================] - 0s 9ms/step - loss: 0.9594 - mae: 0.9594\n",
            "Epoch 69/100\n",
            "1/1 [==============================] - 0s 8ms/step - loss: 0.8023 - mae: 0.8023\n",
            "Epoch 70/100\n",
            "1/1 [==============================] - 0s 8ms/step - loss: 0.7323 - mae: 0.7323\n",
            "Epoch 71/100\n",
            "1/1 [==============================] - 0s 8ms/step - loss: 0.7533 - mae: 0.7533\n",
            "Epoch 72/100\n",
            "1/1 [==============================] - 0s 7ms/step - loss: 0.6081 - mae: 0.6081\n",
            "Epoch 73/100\n",
            "1/1 [==============================] - 0s 9ms/step - loss: 0.4398 - mae: 0.4398\n",
            "Epoch 74/100\n",
            "1/1 [==============================] - 0s 10ms/step - loss: 0.3290 - mae: 0.3290\n",
            "Epoch 75/100\n",
            "1/1 [==============================] - 0s 6ms/step - loss: 0.3951 - mae: 0.3951\n",
            "Epoch 76/100\n",
            "1/1 [==============================] - 0s 12ms/step - loss: 0.2853 - mae: 0.2853\n",
            "Epoch 77/100\n",
            "1/1 [==============================] - 0s 7ms/step - loss: 0.3474 - mae: 0.3474\n",
            "Epoch 78/100\n",
            "1/1 [==============================] - 0s 6ms/step - loss: 0.4454 - mae: 0.4454\n",
            "Epoch 79/100\n",
            "1/1 [==============================] - 0s 5ms/step - loss: 0.3714 - mae: 0.3714\n",
            "Epoch 80/100\n",
            "1/1 [==============================] - 0s 7ms/step - loss: 0.3634 - mae: 0.3634\n",
            "Epoch 81/100\n",
            "1/1 [==============================] - 0s 8ms/step - loss: 0.4241 - mae: 0.4241\n",
            "Epoch 82/100\n",
            "1/1 [==============================] - 0s 7ms/step - loss: 0.3210 - mae: 0.3210\n",
            "Epoch 83/100\n",
            "1/1 [==============================] - 0s 6ms/step - loss: 0.1902 - mae: 0.1902\n",
            "Epoch 84/100\n",
            "1/1 [==============================] - 0s 9ms/step - loss: 0.4073 - mae: 0.4073\n",
            "Epoch 85/100\n",
            "1/1 [==============================] - 0s 11ms/step - loss: 0.4195 - mae: 0.4195\n",
            "Epoch 86/100\n",
            "1/1 [==============================] - 0s 8ms/step - loss: 0.2375 - mae: 0.2375\n",
            "Epoch 87/100\n",
            "1/1 [==============================] - 0s 11ms/step - loss: 0.2793 - mae: 0.2793\n",
            "Epoch 88/100\n",
            "1/1 [==============================] - 0s 5ms/step - loss: 0.3315 - mae: 0.3315\n",
            "Epoch 89/100\n",
            "1/1 [==============================] - 0s 6ms/step - loss: 0.2470 - mae: 0.2470\n",
            "Epoch 90/100\n",
            "1/1 [==============================] - 0s 5ms/step - loss: 0.1691 - mae: 0.1691\n",
            "Epoch 91/100\n",
            "1/1 [==============================] - 0s 4ms/step - loss: 0.3957 - mae: 0.3957\n",
            "Epoch 92/100\n",
            "1/1 [==============================] - 0s 5ms/step - loss: 0.3390 - mae: 0.3390\n",
            "Epoch 93/100\n",
            "1/1 [==============================] - 0s 5ms/step - loss: 0.2253 - mae: 0.2253\n",
            "Epoch 94/100\n",
            "1/1 [==============================] - 0s 42ms/step - loss: 0.2951 - mae: 0.2951\n",
            "Epoch 95/100\n",
            "1/1 [==============================] - 0s 8ms/step - loss: 0.3168 - mae: 0.3168\n",
            "Epoch 96/100\n",
            "1/1 [==============================] - 0s 7ms/step - loss: 0.2750 - mae: 0.2750\n",
            "Epoch 97/100\n",
            "1/1 [==============================] - 0s 6ms/step - loss: 0.1849 - mae: 0.1849\n",
            "Epoch 98/100\n",
            "1/1 [==============================] - 0s 6ms/step - loss: 0.3530 - mae: 0.3530\n",
            "Epoch 99/100\n",
            "1/1 [==============================] - 0s 7ms/step - loss: 0.3242 - mae: 0.3242\n",
            "Epoch 100/100\n",
            "1/1 [==============================] - 0s 6ms/step - loss: 0.1896 - mae: 0.1896\n"
          ],
          "name": "stdout"
        },
        {
          "output_type": "execute_result",
          "data": {
            "text/plain": [
              "<tensorflow.python.keras.callbacks.History at 0x7ff0f03514d0>"
            ]
          },
          "metadata": {
            "tags": []
          },
          "execution_count": 20
        }
      ]
    },
    {
      "cell_type": "code",
      "metadata": {
        "colab": {
          "base_uri": "https://localhost:8080/"
        },
        "id": "EWYCAucyVe3u",
        "outputId": "360a9e2b-7957-4c3b-a05f-cf2f66da159d"
      },
      "source": [
        "model.predict([17.0])"
      ],
      "execution_count": 21,
      "outputs": [
        {
          "output_type": "stream",
          "text": [
            "WARNING:tensorflow:5 out of the last 5 calls to <function Model.make_predict_function.<locals>.predict_function at 0x7ff0f43bda70> triggered tf.function retracing. Tracing is expensive and the excessive number of tracings could be due to (1) creating @tf.function repeatedly in a loop, (2) passing tensors with different shapes, (3) passing Python objects instead of tensors. For (1), please define your @tf.function outside of the loop. For (2), @tf.function has experimental_relax_shapes=True option that relaxes argument shapes that can avoid unnecessary retracing. For (3), please refer to https://www.tensorflow.org/guide/function#controlling_retracing and https://www.tensorflow.org/api_docs/python/tf/function for  more details.\n"
          ],
          "name": "stdout"
        },
        {
          "output_type": "execute_result",
          "data": {
            "text/plain": [
              "array([[27.878119]], dtype=float32)"
            ]
          },
          "metadata": {
            "tags": []
          },
          "execution_count": 21
        }
      ]
    },
    {
      "cell_type": "code",
      "metadata": {
        "id": "FYL7sZZ7Vjfx"
      },
      "source": [
        ""
      ],
      "execution_count": null,
      "outputs": []
    }
  ]
}